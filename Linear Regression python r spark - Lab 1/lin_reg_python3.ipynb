{
 "cells": [
  {
   "cell_type": "raw",
   "metadata": {},
   "source": [
    "Ομάδα G\n",
    "Ευαγγέλου Σωτήρης\n",
    "Καλαής Κωνσταντίνος\n",
    "Χατζηευφραιμίδης Λευτέρης"
   ]
  },
  {
   "cell_type": "code",
   "execution_count": 3,
   "metadata": {},
   "outputs": [
    {
     "name": "stdout",
     "output_type": "stream",
     "text": [
      "Coefficients found: -0.40853201713146853 0.5720312272167274\n",
      "MSE error: 0.031086907222233163\n"
     ]
    },
    {
     "data": {
      "image/png": "[encoded data removed]",
      "text/plain": [
       "<Figure size 432x288 with 1 Axes>"
      ]
     },
     "metadata": {
      "needs_background": "light"
     },
     "output_type": "display_data"
    }
   ],
   "source": [
    "\"\"\"\n",
    "Regression by the formula y = c + b*x\n",
    "b = line slope = covariance(x,y)/variance(x)\n",
    "c = y intercept = mean(y) - b*mean(x)\n",
    "\n",
    "Dataset taken from: https://archive.ics.uci.edu/ml/datasets/bike+sharing+dataset\n",
    "Used csv file: day.csv\n",
    "\n",
    "\"\"\"\n",
    "\n",
    "import numpy as np \n",
    "import matplotlib.pyplot as plt\n",
    "import pandas as pd\n",
    "from sklearn.model_selection import train_test_split\n",
    "from sklearn.metrics import mean_squared_error\n",
    "\n",
    "def open_dataset(path):\n",
    "\tdf = pd.read_csv(path)\n",
    "\tx = df.windspeed\n",
    "\ty = df.temp\n",
    "\tx = np.array(x)\n",
    "\ty = np.array(y)\n",
    "\treturn x,y\n",
    "\n",
    "def graph_preds(test_x,test_y,predictions):\n",
    "\tax = plt.subplot()\n",
    "\tplt.title(\"Linear Regression\")\n",
    "\treal = plt.plot(test_x,test_y,'ro',markersize=2, label=\"Real points\")\n",
    "\tpreds = plt.plot(test_x,predictions,'b', label=\"Predictioned line\")\n",
    "\tplt.legend(loc=\"upper right\")\n",
    "\tax.set_xlabel('Windspeed')\n",
    "\tax.set_ylabel('Temperature')\n",
    "\tplt.show()\n",
    "\n",
    "def my_sum(x):\n",
    "\titerations = x.size\n",
    "\tret_sum = 0\n",
    "\tfor i in range(iterations):\n",
    "\t\tret_sum += x[i]\n",
    "\treturn ret_sum\n",
    "\n",
    "def variance(x):\n",
    "\tmean = np.mean(x)\n",
    "\tto_sum = np.power(x-mean,2)\n",
    "\treturn my_sum(to_sum)\n",
    "\n",
    "def covariance(x,y):\n",
    "\tmean_x = np.mean(x)\n",
    "\tmean_y = np.mean(y)\n",
    "\treturn my_sum((x - mean_x)*(y - mean_y))\n",
    "\n",
    "def find_coeff(x_train,y_train):\n",
    "\tb = covariance(x_train,y_train) / variance(x_train)\n",
    "\tmean_x = np.mean(x_train)\n",
    "\tmean_y = np.mean(y_train)\n",
    "\tc = mean_y - b*mean_x\n",
    "\treturn b,c\n",
    "\n",
    "def predict(test_x,test_y,b,c):\n",
    "\tpredictions = c + b*test_x\n",
    "\tprint(\"MSE error: \" + str(mean_squared_error(test_y,predictions)))\n",
    "\tgraph_preds(test_x,test_y,predictions)\n",
    "\n",
    "x,y = open_dataset(\"day.csv\")\n",
    "train_x, test_x,train_y,test_y = train_test_split(x,y, train_size=0.8, test_size=0.2)\n",
    "\n",
    "slope,intercept = find_coeff(train_x,train_y)\n",
    "print(\"Coefficients found: \"+ str(slope),str(intercept))\n",
    "\n",
    "predict(test_x, test_y, slope, intercept)"
   ]
  }
 ],
 "metadata": {
  "kernelspec": {
   "display_name": "Python 3",
   "language": "python",
   "name": "python3"
  },
  "language_info": {
   "codemirror_mode": {
    "name": "ipython",
    "version": 3
   },
   "file_extension": ".py",
   "mimetype": "text/x-python",
   "name": "python",
   "nbconvert_exporter": "python",
   "pygments_lexer": "ipython3",
   "version": "3.7.2"
  }
 },
 "nbformat": 4,
 "nbformat_minor": 2
}
