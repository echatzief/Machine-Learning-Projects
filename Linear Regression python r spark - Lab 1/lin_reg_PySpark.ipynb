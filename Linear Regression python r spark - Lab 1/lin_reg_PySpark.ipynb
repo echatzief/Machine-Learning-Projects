{
 "cells": [
  {
   "cell_type": "raw",
   "metadata": {},
   "source": [
    "Ομάδα G\n",
    "Ευαγγέλου Σωτήρης\n",
    "Καλαής Κωνσταντίνος\n",
    "Χατζηευφραιμίδης Λευτέρης"
   ]
  },
  {
   "cell_type": "code",
   "execution_count": null,
   "metadata": {},
   "outputs": [],
   "source": [
    "from pyspark.ml.regression import LinearRegression\n",
    "from pyspark.ml.feature import VectorAssembler\n",
    "from pyspark.ml.feature import StandardScaler\n",
    "from pyspark.ml import Pipeline\n",
    "from pyspark.sql.functions import *\n",
    "import matplotlib.pyplot as plt\n",
    "from pyspark.ml.evaluation import RegressionEvaluator\n",
    "import ibmos2spark\n",
    "\n",
    "def evaluate_model(prediction):\n",
    "    eval = RegressionEvaluator(labelCol=\"label\", predictionCol=\"prediction\", metricName=\"rmse\")\n",
    "    rmse = eval.evaluate(prediction)\n",
    "    print(\"RMSE: %.3f\" % rmse)\n",
    "    r2 = eval.evaluate(prediction, {eval.metricName: \"r2\"})\n",
    "    print(\"r2: %.3f\" %r2)\n",
    "\n",
    "def graph_results(test_x, test_y, prediction):\n",
    "    plt.title(\"Linear Regression in PySpark\")\n",
    "    plt.plot(test_x,test_y,\"ro\",markersize=3)\n",
    "    plt.plot(test_x, pred_y, \"b-\")\n",
    "    plt.show()\n"
   ]
  },
  {
   "cell_type": "markdown",
   "metadata": {},
   "source": [
    "Παρακάτω, γίνεται load το dataset που χρησιμοποιούμε και υπάρχουν και ορισμένα configurations που πραγματοποιει το IBM Watson Studio στο οποίο γράφτηκε και εγινε το testing αυτό το python script με PySpark."
   ]
  },
  {
   "cell_type": "code",
   "execution_count": null,
   "metadata": {},
   "outputs": [],
   "source": [
    "\"\"\"\n",
    "Used IBM Watson Studio, so the hidden cell contains my individual credentials and configurations, so i have substituted them with 'something'\n",
    "\n",
    "\"\"\"\n",
    "# @hidden_cell\n",
    "credentials = {\n",
    "    'endpoint': 'something',\n",
    "    'service_id': 'something',\n",
    "    'iam_service_endpoint': 'something',\n",
    "    'api_key': 'something'\n",
    "}\n",
    "configuration_name = 'something'\n",
    "cos = ibmos2spark.CloudObjectStorage(sc, credentials, configuration_name, 'bluemix_cos')\n",
    "\n",
    "from pyspark.sql import SparkSession\n",
    "spark = SparkSession.builder.getOrCreate()\n",
    "df = spark.read\\\n",
    "  .format('org.apache.spark.sql.execution.datasources.csv.CSVFileFormat')\\\n",
    "  .option('header', 'true')\\\n",
    "  .load(cos.url('day.csv', 'linearregression-donotdelete-pr-pcl56hqd6jlq8d'))"
   ]
  },
  {
   "cell_type": "code",
   "execution_count": null,
   "metadata": {},
   "outputs": [],
   "source": [
    "# select windspeed as feature and temp as label\n",
    "lr_data = df.select(df.windspeed.cast(\"float\"),df.temp.cast(\"float\"))\n",
    "features = [\"windspeed\"]\n",
    "lr_data = lr_data.withColumnRenamed(\"temp\",\"label\")\n",
    "#lr_data.printSchema()\n",
    "\n",
    "# training and testing dataset split\n",
    "(training, test) = lr_data.randomSplit([.8, .2])\n",
    "\n",
    "# Assemble in Vector, Scale and create Lin.Reg. model in pipeline stages\n",
    "vectorAssembler = VectorAssembler(inputCols=features, outputCol=\"unscaled_features\")\n",
    "standardScaler = StandardScaler(inputCol=\"unscaled_features\", outputCol=\"features\")\n",
    "\n",
    "lr = LinearRegression(maxIter=10, regParam=.01)\n",
    "\n",
    "stages = [vectorAssembler, standardScaler, lr]\n",
    "pipeline = Pipeline(stages=stages)\n",
    "\n",
    "# train model\n",
    "model = pipeline.fit(training)\n",
    "\n",
    "# make predictions on the testing dataset\n",
    "prediction = model.transform(test)\n",
    "prediction.show()\n",
    "\n",
    "# calculate losses\n",
    "evaluate_model(prediction)\n",
    "\n",
    "# convert the Spark dataframes to Python arrays\n",
    "test_x = prediction.select(\"windspeed\").collect()\n",
    "test_y = prediction.select(\"label\").collect()\n",
    "pred_y = prediction.select(\"prediction\").collect()\n",
    "\n",
    "# plot the predicted line with the test points\n",
    "graph_results(test_x, test_y, prediction)"
   ]
  }
 ],
 "metadata": {
  "kernelspec": {
   "display_name": "Python 3",
   "language": "python",
   "name": "python3"
  },
  "language_info": {
   "codemirror_mode": {
    "name": "ipython",
    "version": 3
   },
   "file_extension": ".py",
   "mimetype": "text/x-python",
   "name": "python",
   "nbconvert_exporter": "python",
   "pygments_lexer": "ipython3",
   "version": "3.7.2"
  }
 },
 "nbformat": 4,
 "nbformat_minor": 2
}
