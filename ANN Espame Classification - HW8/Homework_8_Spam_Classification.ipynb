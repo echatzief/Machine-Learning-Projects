{
 "cells": [
  {
   "cell_type": "markdown",
   "metadata": {},
   "source": [
    "<h1 align=center>Homework 8</h1>\n",
    "<br>\n",
    "<div align=center>\n",
    "$$\n",
    "\\textbf{Team G} \\\\ \n",
    "\\text{Evangelou Sotiris 2159} \\\\ \n",
    "\\text{Kalais Konstantinos 2146} \\\\ \n",
    "\\text{Chatziefremidis Leuteris 2209} \\\\ \n",
    "$$\n",
    "<div>"
   ]
  },
  {
   "cell_type": "markdown",
   "metadata": {},
   "source": [
    "# $\\triangleright$ Libraries"
   ]
  },
  {
   "cell_type": "code",
   "execution_count": 1,
   "metadata": {},
   "outputs": [
    {
     "name": "stderr",
     "output_type": "stream",
     "text": [
      "Using TensorFlow backend.\n"
     ]
    }
   ],
   "source": [
    "import pandas as pd\n",
    "import os\n",
    "from os import listdir\n",
    "from os.path import isfile, join\n",
    "from sklearn.feature_extraction.text import TfidfVectorizer\n",
    "from sklearn.model_selection import train_test_split\n",
    "from keras.models import Sequential\n",
    "from keras.layers import Dense, Activation\n",
    "import numpy as np\n",
    "import re"
   ]
  },
  {
   "cell_type": "markdown",
   "metadata": {},
   "source": [
    "# $\\triangleright$ Preprocessing the data"
   ]
  },
  {
   "cell_type": "code",
   "execution_count": 2,
   "metadata": {
    "collapsed": true
   },
   "outputs": [],
   "source": [
    "def clean_str(string):\n",
    "    \"\"\"\n",
    "    Tokenization/string cleaning for all datasets except for SST.\n",
    "    Original taken from https://github.com/yoonkim/CNN_sentence/blob/master/process_data.py\n",
    "    \"\"\"\n",
    "    string = re.sub(r\"[^A-Za-z0-9(),!?\\'\\`]\", \" \", string)\n",
    "    string = re.sub(r\"\\'s\", \" \\'s\", string)\n",
    "    string = re.sub(r\"\\'ve\", \" \\'ve\", string)\n",
    "    string = re.sub(r\"n\\'t\", \" n\\'t\", string)\n",
    "    string = re.sub(r\"\\'re\", \" \\'re\", string)\n",
    "    string = re.sub(r\"\\'d\", \" \\'d\", string)\n",
    "    string = re.sub(r\"\\'ll\", \" \\'ll\", string)\n",
    "    string = re.sub(r\",\", \" , \", string)\n",
    "    string = re.sub(r\"!\", \" ! \", string)\n",
    "    string = re.sub(r\"\\(\", \" \\( \", string)\n",
    "    string = re.sub(r\"\\)\", \" \\) \", string)\n",
    "    string = re.sub(r\"\\?\", \" \\? \", string)\n",
    "    string = re.sub(r\"\\s{2,}\", \" \", string)\n",
    "    return string.strip().lower()\n",
    "def readAllTheFile(fileName):\n",
    "    contents = \"\"\n",
    "    with open(fileName) as f:\n",
    "        for line in f.readlines():\n",
    "            contents += line\n",
    "    return contents\n",
    "def createTheDataFrame(dirName):\n",
    "    \n",
    "     #Get the files from a directory\n",
    "    files = [os.path.join(dirName,fi) for fi in os.listdir(dirName)]\n",
    "    \n",
    "    df = pd.DataFrame(columns=['message', 'label'])\n",
    "    for f in files:\n",
    "        \n",
    "        #Read the message of the file\n",
    "        messageFromFile =readAllTheFile(f)\n",
    "        \n",
    "        #Clear the string\n",
    "        messageFromFile = clean_str(messageFromFile)\n",
    "        \n",
    "        #Check the category SPAM --> 1 OR MAIL --> 0\n",
    "        filepathTokens = f.split('/')\n",
    "        lastToken = filepathTokens[len(filepathTokens) - 1]\n",
    "        if lastToken.startswith(\"sp\"):\n",
    "            lab = 1\n",
    "        else:\n",
    "            lab = 0\n",
    "        \n",
    "        #Pass a new row to dataframe\n",
    "        row = [messageFromFile,lab]\n",
    "        df.loc[len(df)] = row\n",
    "    return df"
   ]
  },
  {
   "cell_type": "markdown",
   "metadata": {},
   "source": [
    "# $\\triangleright$ Vectorize the data and split them"
   ]
  },
  {
   "cell_type": "code",
   "execution_count": 3,
   "metadata": {},
   "outputs": [
    {
     "name": "stdout",
     "output_type": "stream",
     "text": [
      "                                             message label\n",
      "0  subject spanish association of applied linguis...     0\n",
      "1  subject genetic classification i wish to make ...     0\n",
      "2  subject functional phonology , paul boersma ne...     0\n",
      "3  subject iscll3 the third international symposi...     0\n",
      "4  subject multilingual ocr \\( optical character ...     0\n",
      "(561, 24862) (241, 24862)\n",
      "[[0.33664014 0.42746101 0.         ... 0.         0.         0.        ]\n",
      " [0.04374908 0.06802284 0.         ... 0.         0.         0.        ]\n",
      " [0.         0.         0.         ... 0.         0.         0.        ]\n",
      " ...\n",
      " [0.02926027 0.         0.         ... 0.         0.         0.        ]\n",
      " [0.         0.         0.         ... 0.         0.         0.        ]\n",
      " [0.         0.         0.         ... 0.         0.         0.        ]]\n"
     ]
    }
   ],
   "source": [
    "#Create a dataframe with the samples for train,test\n",
    "df=createTheDataFrame('./Emails')\n",
    "\n",
    "#Vectorize the data\n",
    "vectorizer = TfidfVectorizer()\n",
    "print(df.head())\n",
    "\n",
    "# Extract features\n",
    "X = vectorizer.fit_transform(df.message).toarray()\n",
    "# Extract targets\n",
    "y = df.label.astype('int')\n",
    "\n",
    "X = np.array(X)\n",
    "y = np.array(y)\n",
    "\n",
    "#Split to train,test\n",
    "trainX,testX,trainY,testY = train_test_split(X, y, test_size=0.30, random_state=42)\n",
    "print(trainX.shape,testX.shape)\n",
    "print(trainX)"
   ]
  },
  {
   "cell_type": "markdown",
   "metadata": {},
   "source": [
    "#  $\\triangleright$ Developing a code for doing neural networks with back propagation"
   ]
  },
  {
   "cell_type": "code",
   "execution_count": 6,
   "metadata": {},
   "outputs": [
    {
     "name": "stdout",
     "output_type": "stream",
     "text": [
      "probabilities = (n_inputs, n_categories) = (561, 2)\n",
      "probability that sample 0 is in category 0,1 \n",
      "[0.16299495 0.83700505]\n",
      "probabilities sum up to: 1.0\n",
      "\n",
      "predictions = (n_inputs) = (561,)\n",
      "prediction for sample 0: 1\n",
      "correct label for sample 0: 1\n"
     ]
    }
   ],
   "source": [
    "# building our neural network\n",
    "n_inputs, n_features = trainX.shape\n",
    "n_hidden_neurons = 50\n",
    "n_categories = 2\n",
    "\n",
    "# we make the weights normally distributed using numpy.random.randn\n",
    "\n",
    "# weights and bias in the hidden layer\n",
    "hidden_weights = np.random.randn(n_features, n_hidden_neurons)\n",
    "hidden_bias = np.zeros(n_hidden_neurons) + 0.01\n",
    "\n",
    "# weights and bias in the output layer\n",
    "output_weights = np.random.randn(n_hidden_neurons, n_categories)\n",
    "output_bias = np.zeros(n_categories) + 0.01\n",
    "\n",
    "\n",
    "# setup the feed-forward pass, subscript h = hidden layer\n",
    "\n",
    "def sigmoid(x):\n",
    "    return 1/(1 + np.exp(-x))\n",
    "\n",
    "def feed_forward(X):\n",
    "    # weighted sum of inputs to the hidden layer\n",
    "    z_h = np.matmul(X, hidden_weights) + hidden_bias\n",
    "    # activation in the hidden layer\n",
    "    a_h = sigmoid(z_h)\n",
    "    \n",
    "    # weighted sum of inputs to the output layer\n",
    "    z_o = np.matmul(a_h, output_weights) + output_bias\n",
    "    # softmax output\n",
    "    # axis 0 holds each input and axis 1 the probabilities of each category\n",
    "    exp_term = np.exp(z_o)\n",
    "    probabilities = exp_term / np.sum(exp_term, axis=1, keepdims=True)\n",
    "    \n",
    "    return probabilities\n",
    "\n",
    "probabilities = feed_forward(trainX)\n",
    "print(\"probabilities = (n_inputs, n_categories) = \" + str(probabilities.shape))\n",
    "print(\"probability that sample 0 is in category 0,1 \\n\" + str(probabilities[0]))\n",
    "print(\"probabilities sum up to: \" + str(probabilities[0].sum()))\n",
    "print()\n",
    "\n",
    "# we obtain a prediction by taking the class with the highest likelihood\n",
    "def predict(X):\n",
    "    probabilities = feed_forward(X)\n",
    "    return np.argmax(probabilities, axis=1)\n",
    "\n",
    "predictions = predict(trainX)\n",
    "print(\"predictions = (n_inputs) = \" + str(predictions.shape))\n",
    "print(\"prediction for sample 0: \" + str(predictions[0]))\n",
    "print(\"correct label for sample 0: \" + str(trainY[0]))\n"
   ]
  },
  {
   "cell_type": "markdown",
   "metadata": {},
   "source": [
    "# $\\triangleright$ Optimizing the cost function"
   ]
  },
  {
   "cell_type": "code",
   "execution_count": 7,
   "metadata": {
    "scrolled": true
   },
   "outputs": [
    {
     "name": "stdout",
     "output_type": "stream",
     "text": [
      "Old accuracy on training data: 0.46524064171123\n",
      "New accuracy on training data: 1.0\n"
     ]
    }
   ],
   "source": [
    "# to categorical turns our integer vector into a onehot representation\n",
    "from sklearn.metrics import accuracy_score\n",
    "\n",
    "# one-hot in numpy\n",
    "def to_categorical_numpy(integer_vector):\n",
    "    n_inputs = len(integer_vector)\n",
    "    n_categories = np.max(integer_vector) + 1\n",
    "    onehot_vector = np.zeros((n_inputs, n_categories))\n",
    "    onehot_vector[range(n_inputs), integer_vector] = 1\n",
    "    \n",
    "    return onehot_vector\n",
    "\n",
    "#Y_train_onehot, Y_test_onehot = to_categorical(Y_train), to_categorical(Y_test)\n",
    "Y_train_onehot, Y_test_onehot = to_categorical_numpy(trainY), to_categorical_numpy(testY)\n",
    "\n",
    "def feed_forward_train(X):\n",
    "    # weighted sum of inputs to the hidden layer\n",
    "    z_h = np.matmul(X, hidden_weights) + hidden_bias\n",
    "    # activation in the hidden layer\n",
    "    a_h = sigmoid(z_h)\n",
    "    \n",
    "    # weighted sum of inputs to the output layer\n",
    "    z_o = np.matmul(a_h, output_weights) + output_bias\n",
    "    # softmax output\n",
    "    # axis 0 holds each input and axis 1 the probabilities of each category\n",
    "    exp_term = np.exp(z_o)\n",
    "    probabilities = exp_term / np.sum(exp_term, axis=1, keepdims=True)\n",
    "    \n",
    "    # for backpropagation need activations in hidden and output layers\n",
    "    return a_h, probabilities\n",
    "\n",
    "def backpropagation(X, Y):\n",
    "    a_h, probabilities = feed_forward_train(X)\n",
    "    \n",
    "    # error in the output layer\n",
    "    error_output = probabilities - Y\n",
    "    # error in the hidden layer\n",
    "    error_hidden = np.matmul(error_output, output_weights.T) * a_h * (1 - a_h)\n",
    "    \n",
    "    # gradients for the output layer\n",
    "    output_weights_gradient = np.matmul(a_h.T, error_output)\n",
    "    output_bias_gradient = np.sum(error_output, axis=0)\n",
    "    \n",
    "    # gradient for the hidden layer\n",
    "    hidden_weights_gradient = np.matmul(X.T, error_hidden)\n",
    "    hidden_bias_gradient = np.sum(error_hidden, axis=0)\n",
    "\n",
    "    return output_weights_gradient, output_bias_gradient, hidden_weights_gradient, hidden_bias_gradient\n",
    "\n",
    "print(\"Old accuracy on training data: \" + str(accuracy_score(predict(trainX), trainY)))\n",
    "\n",
    "eta = 0.01\n",
    "lmbd = 0.01\n",
    "for i in range(1000):\n",
    "    # calculate gradients\n",
    "    dWo, dBo, dWh, dBh = backpropagation(trainX, Y_train_onehot)\n",
    "    \n",
    "    # regularization term gradients\n",
    "    dWo += lmbd * output_weights\n",
    "    dWh += lmbd * hidden_weights\n",
    "    \n",
    "    # update weights and biases\n",
    "    output_weights -= eta * dWo\n",
    "    output_bias -= eta * dBo\n",
    "    hidden_weights -= eta * dWh\n",
    "    hidden_bias -= eta * dBh\n",
    "\n",
    "print(\"New accuracy on training data: \" + str(accuracy_score(predict(trainX), trainY)))"
   ]
  },
  {
   "cell_type": "markdown",
   "metadata": {},
   "source": [
    "# $\\triangleright$ Full object-oriented implementation"
   ]
  },
  {
   "cell_type": "code",
   "execution_count": 8,
   "metadata": {
    "collapsed": true
   },
   "outputs": [],
   "source": [
    "class NeuralNetwork:\n",
    "    def __init__(\n",
    "        self,\n",
    "        X_data,\n",
    "        Y_data,\n",
    "        n_hidden_neurons=50,\n",
    "        n_categories=2,\n",
    "        epochs=100,\n",
    "        batch_size=1,\n",
    "        eta=0.1,\n",
    "        lmbd=0.0,\n",
    "\n",
    "    ):\n",
    "        self.X_data_full = X_data\n",
    "        self.Y_data_full = Y_data\n",
    "\n",
    "        self.n_inputs = X_data.shape[0]\n",
    "        self.n_features = X_data.shape[1]\n",
    "        self.n_hidden_neurons = n_hidden_neurons\n",
    "        self.n_categories = n_categories\n",
    "\n",
    "        self.epochs = epochs\n",
    "        self.batch_size = batch_size\n",
    "        self.iterations = self.n_inputs // self.batch_size\n",
    "        self.eta = eta\n",
    "        self.lmbd = lmbd\n",
    "\n",
    "        self.create_biases_and_weights()\n",
    "\n",
    "    def create_biases_and_weights(self):\n",
    "        self.hidden_weights = np.random.randn(self.n_features, self.n_hidden_neurons)\n",
    "        self.hidden_bias = np.zeros(self.n_hidden_neurons) + 0.01\n",
    "\n",
    "        self.output_weights = np.random.randn(self.n_hidden_neurons, self.n_categories)\n",
    "        self.output_bias = np.zeros(self.n_categories) + 0.01\n",
    "\n",
    "    def feed_forward(self):\n",
    "        # feed-forward for training\n",
    "        self.z_h = np.matmul(self.X_data, self.hidden_weights) + self.hidden_bias\n",
    "        self.a_h = sigmoid(self.z_h)\n",
    "\n",
    "        self.z_o = np.matmul(self.a_h, self.output_weights) + self.output_bias\n",
    "\n",
    "        exp_term = np.exp(self.z_o)\n",
    "        self.probabilities = exp_term / np.sum(exp_term, axis=1, keepdims=True)\n",
    "\n",
    "    def feed_forward_out(self, X):\n",
    "        # feed-forward for output\n",
    "        z_h = np.matmul(X, self.hidden_weights) + self.hidden_bias\n",
    "        a_h = sigmoid(z_h)\n",
    "\n",
    "        z_o = np.matmul(a_h, self.output_weights) + self.output_bias\n",
    "        \n",
    "        exp_term = np.exp(z_o)\n",
    "        probabilities = exp_term / np.sum(exp_term, axis=1, keepdims=True)\n",
    "        return probabilities\n",
    "\n",
    "    def backpropagation(self):\n",
    "        error_output = self.probabilities - self.Y_data\n",
    "        error_hidden = np.matmul(error_output, self.output_weights.T) * self.a_h * (1 - self.a_h)\n",
    "\n",
    "        self.output_weights_gradient = np.matmul(self.a_h.T, error_output)\n",
    "        self.output_bias_gradient = np.sum(error_output, axis=0)\n",
    "\n",
    "        self.hidden_weights_gradient = np.matmul(self.X_data.T, error_hidden)\n",
    "        self.hidden_bias_gradient = np.sum(error_hidden, axis=0)\n",
    "\n",
    "        if self.lmbd > 0.0:\n",
    "            self.output_weights_gradient += self.lmbd * self.output_weights\n",
    "            self.hidden_weights_gradient += self.lmbd * self.hidden_weights\n",
    "\n",
    "        self.output_weights -= self.eta * self.output_weights_gradient\n",
    "        self.output_bias -= self.eta * self.output_bias_gradient\n",
    "        self.hidden_weights -= self.eta * self.hidden_weights_gradient\n",
    "        self.hidden_bias -= self.eta * self.hidden_bias_gradient\n",
    "\n",
    "    def predict(self, X):\n",
    "        probabilities = self.feed_forward_out(X)\n",
    "        return np.argmax(probabilities, axis=1)\n",
    "\n",
    "    def predict_probabilities(self, X):\n",
    "        probabilities = self.feed_forward_out(X)\n",
    "        return probabilities\n",
    "\n",
    "    def train(self):\n",
    "        data_indices = np.arange(self.n_inputs)\n",
    "\n",
    "        for i in range(self.epochs):\n",
    "            for j in range(self.iterations):\n",
    "                # pick datapoints with replacement\n",
    "                chosen_datapoints = np.random.choice(\n",
    "                    data_indices, size=self.batch_size, replace=False\n",
    "                )\n",
    "\n",
    "                # minibatch training data\n",
    "                self.X_data = self.X_data_full[chosen_datapoints]\n",
    "                self.Y_data = self.Y_data_full[chosen_datapoints]\n",
    "\n",
    "                self.feed_forward()\n",
    "                self.backpropagation()"
   ]
  },
  {
   "cell_type": "markdown",
   "metadata": {},
   "source": [
    "# $\\triangleright$ Evaluate model performance on test data"
   ]
  },
  {
   "cell_type": "code",
   "execution_count": 9,
   "metadata": {},
   "outputs": [
    {
     "name": "stdout",
     "output_type": "stream",
     "text": [
      "Accuracy score on test set:  0.946058091286307\n"
     ]
    }
   ],
   "source": [
    "epochs = 100\n",
    "batch_size = 100\n",
    "\n",
    "dnn = NeuralNetwork(trainX, Y_train_onehot, eta=eta, lmbd=lmbd, epochs=epochs, batch_size=batch_size,\n",
    "                    n_hidden_neurons=n_hidden_neurons, n_categories=n_categories)\n",
    "dnn.train()\n",
    "test_predict = dnn.predict(testX)\n",
    "\n",
    "# accuracy score from scikit library\n",
    "print(\"Accuracy score on test set: \", accuracy_score(testY, test_predict))\n",
    "\n",
    "# equivalent in numpy\n",
    "def accuracy_score_numpy(Y_test, Y_pred):\n",
    "    return np.sum(Y_test == Y_pred) / len(Y_test)\n",
    "\n",
    "#print(\"Accuracy score on test set: \", accuracy_score_numpy(Y_test, test_predict))"
   ]
  },
  {
   "cell_type": "markdown",
   "metadata": {},
   "source": [
    "# $\\triangleright$  Adjust hyperparameters"
   ]
  },
  {
   "cell_type": "code",
   "execution_count": 10,
   "metadata": {
    "scrolled": true
   },
   "outputs": [
    {
     "name": "stdout",
     "output_type": "stream",
     "text": [
      "Learning rate  =  1e-05\n",
      "Lambda =  1e-05\n",
      "Accuracy score on test set:  0.3983402489626556\n",
      "\n",
      "Learning rate  =  1e-05\n",
      "Lambda =  0.0001\n",
      "Accuracy score on test set:  0.4730290456431535\n",
      "\n",
      "Learning rate  =  1e-05\n",
      "Lambda =  0.001\n",
      "Accuracy score on test set:  0.4107883817427386\n",
      "\n",
      "Learning rate  =  1e-05\n",
      "Lambda =  0.01\n",
      "Accuracy score on test set:  0.48132780082987553\n",
      "\n",
      "Learning rate  =  1e-05\n",
      "Lambda =  0.1\n",
      "Accuracy score on test set:  0.4605809128630705\n",
      "\n",
      "Learning rate  =  1e-05\n",
      "Lambda =  1.0\n",
      "Accuracy score on test set:  0.5477178423236515\n",
      "\n",
      "Learning rate  =  1e-05\n",
      "Lambda =  10.0\n",
      "Accuracy score on test set:  0.4730290456431535\n",
      "\n",
      "Learning rate  =  0.0001\n",
      "Lambda =  1e-05\n",
      "Accuracy score on test set:  0.5892116182572614\n",
      "\n",
      "Learning rate  =  0.0001\n",
      "Lambda =  0.0001\n",
      "Accuracy score on test set:  0.5892116182572614\n",
      "\n",
      "Learning rate  =  0.0001\n",
      "Lambda =  0.001\n",
      "Accuracy score on test set:  0.5809128630705395\n",
      "\n",
      "Learning rate  =  0.0001\n",
      "Lambda =  0.01\n",
      "Accuracy score on test set:  0.5186721991701245\n",
      "\n",
      "Learning rate  =  0.0001\n",
      "Lambda =  0.1\n",
      "Accuracy score on test set:  0.5933609958506224\n",
      "\n",
      "Learning rate  =  0.0001\n",
      "Lambda =  1.0\n",
      "Accuracy score on test set:  0.5601659751037344\n",
      "\n",
      "Learning rate  =  0.0001\n",
      "Lambda =  10.0\n",
      "Accuracy score on test set:  0.6390041493775933\n",
      "\n",
      "Learning rate  =  0.001\n",
      "Lambda =  1e-05\n",
      "Accuracy score on test set:  0.8008298755186722\n",
      "\n",
      "Learning rate  =  0.001\n",
      "Lambda =  0.0001\n",
      "Accuracy score on test set:  0.8049792531120332\n",
      "\n",
      "Learning rate  =  0.001\n",
      "Lambda =  0.001\n",
      "Accuracy score on test set:  0.8215767634854771\n",
      "\n",
      "Learning rate  =  0.001\n",
      "Lambda =  0.01\n",
      "Accuracy score on test set:  0.8713692946058091\n",
      "\n",
      "Learning rate  =  0.001\n",
      "Lambda =  0.1\n",
      "Accuracy score on test set:  0.7842323651452282\n",
      "\n",
      "Learning rate  =  0.001\n",
      "Lambda =  1.0\n",
      "Accuracy score on test set:  0.8298755186721992\n",
      "\n",
      "Learning rate  =  0.001\n",
      "Lambda =  10.0\n",
      "Accuracy score on test set:  0.4896265560165975\n",
      "\n",
      "Learning rate  =  0.01\n",
      "Lambda =  1e-05\n",
      "Accuracy score on test set:  0.9585062240663901\n",
      "\n",
      "Learning rate  =  0.01\n",
      "Lambda =  0.0001\n",
      "Accuracy score on test set:  0.91701244813278\n",
      "\n",
      "Learning rate  =  0.01\n",
      "Lambda =  0.001\n",
      "Accuracy score on test set:  0.9128630705394191\n",
      "\n",
      "Learning rate  =  0.01\n",
      "Lambda =  0.01\n",
      "Accuracy score on test set:  0.921161825726141\n",
      "\n",
      "Learning rate  =  0.01\n",
      "Lambda =  0.1\n",
      "Accuracy score on test set:  0.975103734439834\n",
      "\n",
      "Learning rate  =  0.01\n",
      "Lambda =  1.0\n",
      "Accuracy score on test set:  0.7468879668049793\n",
      "\n",
      "Learning rate  =  0.01\n",
      "Lambda =  10.0\n",
      "Accuracy score on test set:  0.5103734439834025\n",
      "\n",
      "Learning rate  =  0.1\n",
      "Lambda =  1e-05\n",
      "Accuracy score on test set:  0.975103734439834\n",
      "\n",
      "Learning rate  =  0.1\n",
      "Lambda =  0.0001\n",
      "Accuracy score on test set:  0.966804979253112\n",
      "\n",
      "Learning rate  =  0.1\n",
      "Lambda =  0.001\n",
      "Accuracy score on test set:  0.9585062240663901\n",
      "\n",
      "Learning rate  =  0.1\n",
      "Lambda =  0.01\n",
      "Accuracy score on test set:  0.979253112033195\n",
      "\n",
      "Learning rate  =  0.1\n",
      "Lambda =  0.1\n",
      "Accuracy score on test set:  0.5103734439834025\n",
      "\n",
      "Learning rate  =  0.1\n",
      "Lambda =  1.0\n",
      "Accuracy score on test set:  0.5103734439834025\n",
      "\n",
      "Learning rate  =  0.1\n",
      "Lambda =  10.0\n",
      "Accuracy score on test set:  0.4896265560165975\n",
      "\n"
     ]
    },
    {
     "name": "stderr",
     "output_type": "stream",
     "text": [
      "/home/echatzief/.local/lib/python3.6/site-packages/ipykernel_launcher.py:20: RuntimeWarning: overflow encountered in exp\n"
     ]
    },
    {
     "name": "stdout",
     "output_type": "stream",
     "text": [
      "Learning rate  =  1.0\n",
      "Lambda =  1e-05\n",
      "Accuracy score on test set:  0.4896265560165975\n",
      "\n"
     ]
    },
    {
     "name": "stderr",
     "output_type": "stream",
     "text": [
      "/home/echatzief/.local/lib/python3.6/site-packages/ipykernel_launcher.py:44: RuntimeWarning: overflow encountered in exp\n",
      "/home/echatzief/.local/lib/python3.6/site-packages/ipykernel_launcher.py:45: RuntimeWarning: invalid value encountered in true_divide\n"
     ]
    },
    {
     "name": "stdout",
     "output_type": "stream",
     "text": [
      "Learning rate  =  1.0\n",
      "Lambda =  0.0001\n",
      "Accuracy score on test set:  0.5103734439834025\n",
      "\n",
      "Learning rate  =  1.0\n",
      "Lambda =  0.001\n",
      "Accuracy score on test set:  0.5103734439834025\n",
      "\n",
      "Learning rate  =  1.0\n",
      "Lambda =  0.01\n",
      "Accuracy score on test set:  0.5103734439834025\n",
      "\n",
      "Learning rate  =  1.0\n",
      "Lambda =  0.1\n",
      "Accuracy score on test set:  0.5103734439834025\n",
      "\n",
      "Learning rate  =  1.0\n",
      "Lambda =  1.0\n",
      "Accuracy score on test set:  0.5103734439834025\n",
      "\n",
      "Learning rate  =  1.0\n",
      "Lambda =  10.0\n",
      "Accuracy score on test set:  0.5103734439834025\n",
      "\n",
      "Learning rate  =  10.0\n",
      "Lambda =  1e-05\n",
      "Accuracy score on test set:  0.5103734439834025\n",
      "\n",
      "Learning rate  =  10.0\n",
      "Lambda =  0.0001\n",
      "Accuracy score on test set:  0.5103734439834025\n",
      "\n",
      "Learning rate  =  10.0\n",
      "Lambda =  0.001\n",
      "Accuracy score on test set:  0.5103734439834025\n",
      "\n",
      "Learning rate  =  10.0\n",
      "Lambda =  0.01\n",
      "Accuracy score on test set:  0.5103734439834025\n",
      "\n",
      "Learning rate  =  10.0\n",
      "Lambda =  0.1\n",
      "Accuracy score on test set:  0.5103734439834025\n",
      "\n",
      "Learning rate  =  10.0\n",
      "Lambda =  1.0\n",
      "Accuracy score on test set:  0.5103734439834025\n",
      "\n",
      "Learning rate  =  10.0\n",
      "Lambda =  10.0\n",
      "Accuracy score on test set:  0.5103734439834025\n",
      "\n"
     ]
    }
   ],
   "source": [
    "eta_vals = np.logspace(-5, 1, 7)\n",
    "lmbd_vals = np.logspace(-5, 1, 7)\n",
    "# store the models for later use\n",
    "DNN_numpy = np.zeros((len(eta_vals), len(lmbd_vals)), dtype=object)\n",
    "\n",
    "# grid search\n",
    "for i, eta in enumerate(eta_vals):\n",
    "    for j, lmbd in enumerate(lmbd_vals):\n",
    "        dnn = NeuralNetwork(trainX, Y_train_onehot, eta=eta, lmbd=lmbd, epochs=epochs, batch_size=batch_size,\n",
    "                            n_hidden_neurons=n_hidden_neurons, n_categories=n_categories)\n",
    "        dnn.train()\n",
    "        \n",
    "        DNN_numpy[i][j] = dnn\n",
    "        \n",
    "        test_predict = dnn.predict(testX)\n",
    "        \n",
    "        print(\"Learning rate  = \", eta)\n",
    "        print(\"Lambda = \", lmbd)\n",
    "        print(\"Accuracy score on test set: \", accuracy_score(testY, test_predict))\n",
    "        print()"
   ]
  },
  {
   "cell_type": "markdown",
   "metadata": {},
   "source": [
    "# $\\triangleright$  Visualization"
   ]
  },
  {
   "cell_type": "code",
   "execution_count": 12,
   "metadata": {
    "scrolled": true
   },
   "outputs": [
    {
     "name": "stderr",
     "output_type": "stream",
     "text": [
      "/home/echatzief/.local/lib/python3.6/site-packages/ipykernel_launcher.py:20: RuntimeWarning: overflow encountered in exp\n"
     ]
    },
    {
     "data": {
      "image/png": "[encoded data removed]",
      "text/plain": [
       "<Figure size 720x720 with 2 Axes>"
      ]
     },
     "metadata": {},
     "output_type": "display_data"
    },
    {
     "data": {
      "image/png": "[encoded data removed]",
      "text/plain": [
       "<Figure size 720x720 with 2 Axes>"
      ]
     },
     "metadata": {},
     "output_type": "display_data"
    }
   ],
   "source": [
    "# visual representation of grid search\n",
    "# uses seaborn heatmap, you can also do this with matplotlib imshow\n",
    "import seaborn as sns\n",
    "import matplotlib.pyplot as plt \n",
    "sns.set()\n",
    "\n",
    "train_accuracy = np.zeros((len(eta_vals), len(lmbd_vals)))\n",
    "test_accuracy = np.zeros((len(eta_vals), len(lmbd_vals)))\n",
    "\n",
    "for i in range(len(eta_vals)):\n",
    "    for j in range(len(lmbd_vals)):\n",
    "        dnn = DNN_numpy[i][j]\n",
    "        \n",
    "        train_pred = dnn.predict(trainX) \n",
    "        test_pred = dnn.predict(testX)\n",
    "\n",
    "        train_accuracy[i][j] = accuracy_score(trainY, train_pred)\n",
    "        test_accuracy[i][j] = accuracy_score(testY, test_pred)\n",
    "\n",
    "        \n",
    "fig, ax = plt.subplots(figsize = (10, 10))\n",
    "sns.heatmap(train_accuracy, annot=True, ax=ax, cmap=\"viridis\")\n",
    "ax.set_title(\"Training Accuracy\")\n",
    "ax.set_ylabel(\"$\\eta$\")\n",
    "ax.set_xlabel(\"$\\lambda$\")\n",
    "plt.show()\n",
    "\n",
    "fig, ax = plt.subplots(figsize = (10, 10))\n",
    "sns.heatmap(test_accuracy, annot=True, ax=ax, cmap=\"viridis\")\n",
    "ax.set_title(\"Test Accuracy\")\n",
    "ax.set_ylabel(\"$\\eta$\")\n",
    "ax.set_xlabel(\"$\\lambda$\")\n",
    "plt.show()"
   ]
  },
  {
   "cell_type": "markdown",
   "metadata": {},
   "source": [
    "# $\\triangleright$ Scikit-Learn implementation"
   ]
  },
  {
   "cell_type": "code",
   "execution_count": 13,
   "metadata": {},
   "outputs": [
    {
     "name": "stderr",
     "output_type": "stream",
     "text": [
      "/home/echatzief/.local/lib/python3.6/site-packages/sklearn/neural_network/multilayer_perceptron.py:562: ConvergenceWarning: Stochastic Optimizer: Maximum iterations (100) reached and the optimization hasn't converged yet.\n",
      "  % self.max_iter, ConvergenceWarning)\n"
     ]
    },
    {
     "name": "stdout",
     "output_type": "stream",
     "text": [
      "Learning rate  =  1e-05\n",
      "Lambda =  1e-05\n",
      "Accuracy score on test set:  0.5103734439834025\n",
      "\n"
     ]
    },
    {
     "name": "stderr",
     "output_type": "stream",
     "text": [
      "/home/echatzief/.local/lib/python3.6/site-packages/sklearn/neural_network/multilayer_perceptron.py:562: ConvergenceWarning: Stochastic Optimizer: Maximum iterations (100) reached and the optimization hasn't converged yet.\n",
      "  % self.max_iter, ConvergenceWarning)\n"
     ]
    },
    {
     "name": "stdout",
     "output_type": "stream",
     "text": [
      "Learning rate  =  1e-05\n",
      "Lambda =  0.0001\n",
      "Accuracy score on test set:  0.4896265560165975\n",
      "\n"
     ]
    },
    {
     "name": "stderr",
     "output_type": "stream",
     "text": [
      "/home/echatzief/.local/lib/python3.6/site-packages/sklearn/neural_network/multilayer_perceptron.py:562: ConvergenceWarning: Stochastic Optimizer: Maximum iterations (100) reached and the optimization hasn't converged yet.\n",
      "  % self.max_iter, ConvergenceWarning)\n"
     ]
    },
    {
     "name": "stdout",
     "output_type": "stream",
     "text": [
      "Learning rate  =  1e-05\n",
      "Lambda =  0.001\n",
      "Accuracy score on test set:  0.5103734439834025\n",
      "\n"
     ]
    },
    {
     "name": "stderr",
     "output_type": "stream",
     "text": [
      "/home/echatzief/.local/lib/python3.6/site-packages/sklearn/neural_network/multilayer_perceptron.py:562: ConvergenceWarning: Stochastic Optimizer: Maximum iterations (100) reached and the optimization hasn't converged yet.\n",
      "  % self.max_iter, ConvergenceWarning)\n"
     ]
    },
    {
     "name": "stdout",
     "output_type": "stream",
     "text": [
      "Learning rate  =  1e-05\n",
      "Lambda =  0.01\n",
      "Accuracy score on test set:  0.4896265560165975\n",
      "\n"
     ]
    },
    {
     "name": "stderr",
     "output_type": "stream",
     "text": [
      "/home/echatzief/.local/lib/python3.6/site-packages/sklearn/neural_network/multilayer_perceptron.py:562: ConvergenceWarning: Stochastic Optimizer: Maximum iterations (100) reached and the optimization hasn't converged yet.\n",
      "  % self.max_iter, ConvergenceWarning)\n"
     ]
    },
    {
     "name": "stdout",
     "output_type": "stream",
     "text": [
      "Learning rate  =  1e-05\n",
      "Lambda =  0.1\n",
      "Accuracy score on test set:  0.5103734439834025\n",
      "\n"
     ]
    },
    {
     "name": "stderr",
     "output_type": "stream",
     "text": [
      "/home/echatzief/.local/lib/python3.6/site-packages/sklearn/neural_network/multilayer_perceptron.py:562: ConvergenceWarning: Stochastic Optimizer: Maximum iterations (100) reached and the optimization hasn't converged yet.\n",
      "  % self.max_iter, ConvergenceWarning)\n"
     ]
    },
    {
     "name": "stdout",
     "output_type": "stream",
     "text": [
      "Learning rate  =  1e-05\n",
      "Lambda =  1.0\n",
      "Accuracy score on test set:  0.4896265560165975\n",
      "\n"
     ]
    },
    {
     "name": "stderr",
     "output_type": "stream",
     "text": [
      "/home/echatzief/.local/lib/python3.6/site-packages/sklearn/neural_network/multilayer_perceptron.py:562: ConvergenceWarning: Stochastic Optimizer: Maximum iterations (100) reached and the optimization hasn't converged yet.\n",
      "  % self.max_iter, ConvergenceWarning)\n"
     ]
    },
    {
     "name": "stdout",
     "output_type": "stream",
     "text": [
      "Learning rate  =  1e-05\n",
      "Lambda =  10.0\n",
      "Accuracy score on test set:  0.5103734439834025\n",
      "\n"
     ]
    },
    {
     "name": "stderr",
     "output_type": "stream",
     "text": [
      "/home/echatzief/.local/lib/python3.6/site-packages/sklearn/neural_network/multilayer_perceptron.py:562: ConvergenceWarning: Stochastic Optimizer: Maximum iterations (100) reached and the optimization hasn't converged yet.\n",
      "  % self.max_iter, ConvergenceWarning)\n"
     ]
    },
    {
     "name": "stdout",
     "output_type": "stream",
     "text": [
      "Learning rate  =  0.0001\n",
      "Lambda =  1e-05\n",
      "Accuracy score on test set:  0.979253112033195\n",
      "\n"
     ]
    },
    {
     "name": "stderr",
     "output_type": "stream",
     "text": [
      "/home/echatzief/.local/lib/python3.6/site-packages/sklearn/neural_network/multilayer_perceptron.py:562: ConvergenceWarning: Stochastic Optimizer: Maximum iterations (100) reached and the optimization hasn't converged yet.\n",
      "  % self.max_iter, ConvergenceWarning)\n"
     ]
    },
    {
     "name": "stdout",
     "output_type": "stream",
     "text": [
      "Learning rate  =  0.0001\n",
      "Lambda =  0.0001\n",
      "Accuracy score on test set:  0.8257261410788381\n",
      "\n"
     ]
    },
    {
     "name": "stderr",
     "output_type": "stream",
     "text": [
      "/home/echatzief/.local/lib/python3.6/site-packages/sklearn/neural_network/multilayer_perceptron.py:562: ConvergenceWarning: Stochastic Optimizer: Maximum iterations (100) reached and the optimization hasn't converged yet.\n",
      "  % self.max_iter, ConvergenceWarning)\n"
     ]
    },
    {
     "name": "stdout",
     "output_type": "stream",
     "text": [
      "Learning rate  =  0.0001\n",
      "Lambda =  0.001\n",
      "Accuracy score on test set:  0.9875518672199171\n",
      "\n"
     ]
    },
    {
     "name": "stderr",
     "output_type": "stream",
     "text": [
      "/home/echatzief/.local/lib/python3.6/site-packages/sklearn/neural_network/multilayer_perceptron.py:562: ConvergenceWarning: Stochastic Optimizer: Maximum iterations (100) reached and the optimization hasn't converged yet.\n",
      "  % self.max_iter, ConvergenceWarning)\n"
     ]
    },
    {
     "name": "stdout",
     "output_type": "stream",
     "text": [
      "Learning rate  =  0.0001\n",
      "Lambda =  0.01\n",
      "Accuracy score on test set:  0.983402489626556\n",
      "\n"
     ]
    },
    {
     "name": "stderr",
     "output_type": "stream",
     "text": [
      "/home/echatzief/.local/lib/python3.6/site-packages/sklearn/neural_network/multilayer_perceptron.py:562: ConvergenceWarning: Stochastic Optimizer: Maximum iterations (100) reached and the optimization hasn't converged yet.\n",
      "  % self.max_iter, ConvergenceWarning)\n"
     ]
    },
    {
     "name": "stdout",
     "output_type": "stream",
     "text": [
      "Learning rate  =  0.0001\n",
      "Lambda =  0.1\n",
      "Accuracy score on test set:  0.950207468879668\n",
      "\n",
      "Learning rate  =  0.0001\n",
      "Lambda =  1.0\n",
      "Accuracy score on test set:  0.9875518672199171\n",
      "\n",
      "Learning rate  =  0.0001\n",
      "Lambda =  10.0\n",
      "Accuracy score on test set:  0.4896265560165975\n",
      "\n"
     ]
    },
    {
     "name": "stderr",
     "output_type": "stream",
     "text": [
      "/home/echatzief/.local/lib/python3.6/site-packages/sklearn/neural_network/multilayer_perceptron.py:562: ConvergenceWarning: Stochastic Optimizer: Maximum iterations (100) reached and the optimization hasn't converged yet.\n",
      "  % self.max_iter, ConvergenceWarning)\n"
     ]
    },
    {
     "name": "stdout",
     "output_type": "stream",
     "text": [
      "Learning rate  =  0.001\n",
      "Lambda =  1e-05\n",
      "Accuracy score on test set:  0.991701244813278\n",
      "\n"
     ]
    },
    {
     "name": "stderr",
     "output_type": "stream",
     "text": [
      "/home/echatzief/.local/lib/python3.6/site-packages/sklearn/neural_network/multilayer_perceptron.py:562: ConvergenceWarning: Stochastic Optimizer: Maximum iterations (100) reached and the optimization hasn't converged yet.\n",
      "  % self.max_iter, ConvergenceWarning)\n"
     ]
    },
    {
     "name": "stdout",
     "output_type": "stream",
     "text": [
      "Learning rate  =  0.001\n",
      "Lambda =  0.0001\n",
      "Accuracy score on test set:  0.991701244813278\n",
      "\n"
     ]
    },
    {
     "name": "stderr",
     "output_type": "stream",
     "text": [
      "/home/echatzief/.local/lib/python3.6/site-packages/sklearn/neural_network/multilayer_perceptron.py:562: ConvergenceWarning: Stochastic Optimizer: Maximum iterations (100) reached and the optimization hasn't converged yet.\n",
      "  % self.max_iter, ConvergenceWarning)\n"
     ]
    },
    {
     "name": "stdout",
     "output_type": "stream",
     "text": [
      "Learning rate  =  0.001\n",
      "Lambda =  0.001\n",
      "Accuracy score on test set:  0.991701244813278\n",
      "\n"
     ]
    },
    {
     "name": "stderr",
     "output_type": "stream",
     "text": [
      "/home/echatzief/.local/lib/python3.6/site-packages/sklearn/neural_network/multilayer_perceptron.py:562: ConvergenceWarning: Stochastic Optimizer: Maximum iterations (100) reached and the optimization hasn't converged yet.\n",
      "  % self.max_iter, ConvergenceWarning)\n"
     ]
    },
    {
     "name": "stdout",
     "output_type": "stream",
     "text": [
      "Learning rate  =  0.001\n",
      "Lambda =  0.01\n",
      "Accuracy score on test set:  0.991701244813278\n",
      "\n"
     ]
    },
    {
     "name": "stderr",
     "output_type": "stream",
     "text": [
      "/home/echatzief/.local/lib/python3.6/site-packages/sklearn/neural_network/multilayer_perceptron.py:562: ConvergenceWarning: Stochastic Optimizer: Maximum iterations (100) reached and the optimization hasn't converged yet.\n",
      "  % self.max_iter, ConvergenceWarning)\n"
     ]
    },
    {
     "name": "stdout",
     "output_type": "stream",
     "text": [
      "Learning rate  =  0.001\n",
      "Lambda =  0.1\n",
      "Accuracy score on test set:  0.9875518672199171\n",
      "\n"
     ]
    },
    {
     "name": "stderr",
     "output_type": "stream",
     "text": [
      "/home/echatzief/.local/lib/python3.6/site-packages/sklearn/neural_network/multilayer_perceptron.py:562: ConvergenceWarning: Stochastic Optimizer: Maximum iterations (100) reached and the optimization hasn't converged yet.\n",
      "  % self.max_iter, ConvergenceWarning)\n"
     ]
    },
    {
     "name": "stdout",
     "output_type": "stream",
     "text": [
      "Learning rate  =  0.001\n",
      "Lambda =  1.0\n",
      "Accuracy score on test set:  0.9585062240663901\n",
      "\n"
     ]
    },
    {
     "name": "stderr",
     "output_type": "stream",
     "text": [
      "/home/echatzief/.local/lib/python3.6/site-packages/sklearn/neural_network/multilayer_perceptron.py:562: ConvergenceWarning: Stochastic Optimizer: Maximum iterations (100) reached and the optimization hasn't converged yet.\n",
      "  % self.max_iter, ConvergenceWarning)\n"
     ]
    },
    {
     "name": "stdout",
     "output_type": "stream",
     "text": [
      "Learning rate  =  0.001\n",
      "Lambda =  10.0\n",
      "Accuracy score on test set:  0.4896265560165975\n",
      "\n",
      "Learning rate  =  0.01\n",
      "Lambda =  1e-05\n",
      "Accuracy score on test set:  0.995850622406639\n",
      "\n",
      "Learning rate  =  0.01\n",
      "Lambda =  0.0001\n",
      "Accuracy score on test set:  0.991701244813278\n",
      "\n"
     ]
    },
    {
     "name": "stderr",
     "output_type": "stream",
     "text": [
      "/home/echatzief/.local/lib/python3.6/site-packages/sklearn/neural_network/multilayer_perceptron.py:562: ConvergenceWarning: Stochastic Optimizer: Maximum iterations (100) reached and the optimization hasn't converged yet.\n",
      "  % self.max_iter, ConvergenceWarning)\n"
     ]
    },
    {
     "name": "stdout",
     "output_type": "stream",
     "text": [
      "Learning rate  =  0.01\n",
      "Lambda =  0.001\n",
      "Accuracy score on test set:  0.995850622406639\n",
      "\n"
     ]
    },
    {
     "name": "stderr",
     "output_type": "stream",
     "text": [
      "/home/echatzief/.local/lib/python3.6/site-packages/sklearn/neural_network/multilayer_perceptron.py:562: ConvergenceWarning: Stochastic Optimizer: Maximum iterations (100) reached and the optimization hasn't converged yet.\n",
      "  % self.max_iter, ConvergenceWarning)\n"
     ]
    },
    {
     "name": "stdout",
     "output_type": "stream",
     "text": [
      "Learning rate  =  0.01\n",
      "Lambda =  0.01\n",
      "Accuracy score on test set:  0.9875518672199171\n",
      "\n"
     ]
    },
    {
     "name": "stderr",
     "output_type": "stream",
     "text": [
      "/home/echatzief/.local/lib/python3.6/site-packages/sklearn/neural_network/multilayer_perceptron.py:562: ConvergenceWarning: Stochastic Optimizer: Maximum iterations (100) reached and the optimization hasn't converged yet.\n",
      "  % self.max_iter, ConvergenceWarning)\n"
     ]
    },
    {
     "name": "stdout",
     "output_type": "stream",
     "text": [
      "Learning rate  =  0.01\n",
      "Lambda =  0.1\n",
      "Accuracy score on test set:  0.9875518672199171\n",
      "\n"
     ]
    },
    {
     "name": "stderr",
     "output_type": "stream",
     "text": [
      "/home/echatzief/.local/lib/python3.6/site-packages/sklearn/neural_network/multilayer_perceptron.py:562: ConvergenceWarning: Stochastic Optimizer: Maximum iterations (100) reached and the optimization hasn't converged yet.\n",
      "  % self.max_iter, ConvergenceWarning)\n"
     ]
    },
    {
     "name": "stdout",
     "output_type": "stream",
     "text": [
      "Learning rate  =  0.01\n",
      "Lambda =  1.0\n",
      "Accuracy score on test set:  0.979253112033195\n",
      "\n",
      "Learning rate  =  0.01\n",
      "Lambda =  10.0\n",
      "Accuracy score on test set:  0.4896265560165975\n",
      "\n",
      "Learning rate  =  0.1\n",
      "Lambda =  1e-05\n",
      "Accuracy score on test set:  0.983402489626556\n",
      "\n",
      "Learning rate  =  0.1\n",
      "Lambda =  0.0001\n",
      "Accuracy score on test set:  0.995850622406639\n",
      "\n",
      "Learning rate  =  0.1\n",
      "Lambda =  0.001\n",
      "Accuracy score on test set:  0.991701244813278\n",
      "\n",
      "Learning rate  =  0.1\n",
      "Lambda =  0.01\n",
      "Accuracy score on test set:  0.991701244813278\n",
      "\n",
      "Learning rate  =  0.1\n",
      "Lambda =  0.1\n",
      "Accuracy score on test set:  0.991701244813278\n",
      "\n",
      "Learning rate  =  0.1\n",
      "Lambda =  1.0\n",
      "Accuracy score on test set:  0.983402489626556\n",
      "\n",
      "Learning rate  =  0.1\n",
      "Lambda =  10.0\n",
      "Accuracy score on test set:  0.5103734439834025\n",
      "\n"
     ]
    },
    {
     "name": "stderr",
     "output_type": "stream",
     "text": [
      "/home/echatzief/.local/lib/python3.6/site-packages/sklearn/neural_network/multilayer_perceptron.py:562: ConvergenceWarning: Stochastic Optimizer: Maximum iterations (100) reached and the optimization hasn't converged yet.\n",
      "  % self.max_iter, ConvergenceWarning)\n"
     ]
    },
    {
     "name": "stdout",
     "output_type": "stream",
     "text": [
      "Learning rate  =  1.0\n",
      "Lambda =  1e-05\n",
      "Accuracy score on test set:  0.979253112033195\n",
      "\n"
     ]
    },
    {
     "name": "stderr",
     "output_type": "stream",
     "text": [
      "/home/echatzief/.local/lib/python3.6/site-packages/sklearn/neural_network/multilayer_perceptron.py:562: ConvergenceWarning: Stochastic Optimizer: Maximum iterations (100) reached and the optimization hasn't converged yet.\n",
      "  % self.max_iter, ConvergenceWarning)\n"
     ]
    },
    {
     "name": "stdout",
     "output_type": "stream",
     "text": [
      "Learning rate  =  1.0\n",
      "Lambda =  0.0001\n",
      "Accuracy score on test set:  0.983402489626556\n",
      "\n",
      "Learning rate  =  1.0\n",
      "Lambda =  0.001\n",
      "Accuracy score on test set:  0.983402489626556\n",
      "\n",
      "Learning rate  =  1.0\n",
      "Lambda =  0.01\n",
      "Accuracy score on test set:  0.983402489626556\n",
      "\n",
      "Learning rate  =  1.0\n",
      "Lambda =  0.1\n",
      "Accuracy score on test set:  0.9585062240663901\n",
      "\n",
      "Learning rate  =  1.0\n",
      "Lambda =  1.0\n",
      "Accuracy score on test set:  0.4896265560165975\n",
      "\n",
      "Learning rate  =  1.0\n",
      "Lambda =  10.0\n",
      "Accuracy score on test set:  0.4896265560165975\n",
      "\n",
      "Learning rate  =  10.0\n",
      "Lambda =  1e-05\n",
      "Accuracy score on test set:  0.983402489626556\n",
      "\n",
      "Learning rate  =  10.0\n",
      "Lambda =  0.0001\n",
      "Accuracy score on test set:  0.983402489626556\n",
      "\n",
      "Learning rate  =  10.0\n",
      "Lambda =  0.001\n",
      "Accuracy score on test set:  0.4896265560165975\n",
      "\n",
      "Learning rate  =  10.0\n",
      "Lambda =  0.01\n",
      "Accuracy score on test set:  0.5103734439834025\n",
      "\n",
      "Learning rate  =  10.0\n",
      "Lambda =  0.1\n",
      "Accuracy score on test set:  0.5103734439834025\n",
      "\n",
      "Learning rate  =  10.0\n",
      "Lambda =  1.0\n",
      "Accuracy score on test set:  0.5103734439834025\n",
      "\n",
      "Learning rate  =  10.0\n",
      "Lambda =  10.0\n",
      "Accuracy score on test set:  0.5103734439834025\n",
      "\n"
     ]
    }
   ],
   "source": [
    "from sklearn.neural_network import MLPClassifier\n",
    "# store models for later use\n",
    "DNN_scikit = np.zeros((len(eta_vals), len(lmbd_vals)), dtype=object)\n",
    "\n",
    "for i, eta in enumerate(eta_vals):\n",
    "    for j, lmbd in enumerate(lmbd_vals):\n",
    "        dnn = MLPClassifier(hidden_layer_sizes=(n_hidden_neurons), activation='logistic',\n",
    "                            alpha=lmbd, learning_rate_init=eta, max_iter=epochs)\n",
    "        dnn.fit(trainX, trainY)\n",
    "        \n",
    "        DNN_scikit[i][j] = dnn\n",
    "        \n",
    "        print(\"Learning rate  = \", eta)\n",
    "        print(\"Lambda = \", lmbd)\n",
    "        print(\"Accuracy score on test set: \", dnn.score(testX, testY))\n",
    "        print()"
   ]
  },
  {
   "cell_type": "markdown",
   "metadata": {},
   "source": [
    "# $\\triangleright$ Visualization"
   ]
  },
  {
   "cell_type": "code",
   "execution_count": 14,
   "metadata": {},
   "outputs": [
    {
     "data": {
      "image/png": "[encoded data removed]",
      "text/plain": [
       "<Figure size 720x720 with 2 Axes>"
      ]
     },
     "metadata": {},
     "output_type": "display_data"
    },
    {
     "data": {
      "image/png": "[encoded data removed]",
      "text/plain": [
       "<Figure size 720x720 with 2 Axes>"
      ]
     },
     "metadata": {},
     "output_type": "display_data"
    }
   ],
   "source": [
    "# optional\n",
    "# visual representation of grid search\n",
    "# uses seaborn heatmap, could probably do this in matplotlib\n",
    "import seaborn as sns\n",
    "\n",
    "sns.set()\n",
    "\n",
    "train_accuracy = np.zeros((len(eta_vals), len(lmbd_vals)))\n",
    "test_accuracy = np.zeros((len(eta_vals), len(lmbd_vals)))\n",
    "\n",
    "for i in range(len(eta_vals)):\n",
    "    for j in range(len(lmbd_vals)):\n",
    "        dnn = DNN_scikit[i][j]\n",
    "        \n",
    "        train_pred = dnn.predict(trainX) \n",
    "        test_pred = dnn.predict(testX)\n",
    "\n",
    "        train_accuracy[i][j] = accuracy_score(trainY, train_pred)\n",
    "        test_accuracy[i][j] = accuracy_score(testY, test_pred)\n",
    "\n",
    "        \n",
    "fig, ax = plt.subplots(figsize = (10, 10))\n",
    "sns.heatmap(train_accuracy, annot=True, ax=ax, cmap=\"viridis\")\n",
    "ax.set_title(\"Training Accuracy\")\n",
    "ax.set_ylabel(\"$\\eta$\")\n",
    "ax.set_xlabel(\"$\\lambda$\")\n",
    "plt.show()\n",
    "\n",
    "fig, ax = plt.subplots(figsize = (10, 10))\n",
    "sns.heatmap(test_accuracy, annot=True, ax=ax, cmap=\"viridis\")\n",
    "ax.set_title(\"Test Accuracy\")\n",
    "ax.set_ylabel(\"$\\eta$\")\n",
    "ax.set_xlabel(\"$\\lambda$\")\n",
    "plt.show()"
   ]
  },
  {
   "cell_type": "markdown",
   "metadata": {},
   "source": [
    "# $\\triangleright$ Using tensorflow"
   ]
  },
  {
   "cell_type": "code",
   "execution_count": 15,
   "metadata": {
    "collapsed": true
   },
   "outputs": [],
   "source": [
    "import tensorflow as tf\n",
    "\n",
    "class NeuralNetworkTensorflow:\n",
    "    def __init__(\n",
    "        self,\n",
    "        X_train,\n",
    "        Y_train,\n",
    "        X_test,\n",
    "        Y_test,\n",
    "        n_neurons_layer1=100,\n",
    "        n_neurons_layer2=50,\n",
    "        n_categories=1,\n",
    "        epochs=10,\n",
    "        batch_size=100,\n",
    "        eta=0.1,\n",
    "        lmbd=0.0,\n",
    "    ):\n",
    "        \n",
    "        # keep track of number of steps\n",
    "        self.global_step = tf.Variable(0, dtype=tf.int32, trainable=False, name='global_step')\n",
    "        \n",
    "        self.X_train = X_train\n",
    "        self.Y_train = Y_train\n",
    "        self.X_test = X_test\n",
    "        self.Y_test = Y_test\n",
    "        \n",
    "        self.n_inputs = X_train.shape[0]\n",
    "        self.n_features = X_train.shape[1]\n",
    "        self.n_neurons_layer1 = n_neurons_layer1\n",
    "        self.n_neurons_layer2 = n_neurons_layer2\n",
    "        self.n_categories = n_categories\n",
    "        \n",
    "        self.epochs = epochs\n",
    "        self.batch_size = batch_size\n",
    "        self.iterations = self.n_inputs // self.batch_size\n",
    "        self.eta = eta\n",
    "        self.lmbd = lmbd\n",
    "        \n",
    "        # build network piece by piece\n",
    "        # name scopes (with) are used to enforce creation of new variables\n",
    "        # https://www.tensorflow.org/guide/variables\n",
    "        self.create_placeholders()\n",
    "        self.create_DNN()\n",
    "        self.create_loss()\n",
    "        self.create_optimiser()\n",
    "        self.create_accuracy()\n",
    "    \n",
    "    def create_placeholders(self):\n",
    "        # placeholders are fine here, but \"Datasets\" are the preferred method\n",
    "        # of streaming data into a model\n",
    "        with tf.name_scope('data'):\n",
    "            self.X = tf.placeholder(tf.float32, shape=(None, self.n_features), name='X_data')\n",
    "            self.Y = tf.placeholder(tf.float32, shape=(None, self.n_categories), name='Y_data')\n",
    "    \n",
    "    def create_DNN(self):\n",
    "        with tf.name_scope('DNN'):\n",
    "            # the weights are stored to calculate regularization loss later\n",
    "            \n",
    "            # Fully connected layer 1\n",
    "            self.W_fc1 = self.weight_variable([self.n_features, self.n_neurons_layer1], name='fc1', dtype=tf.float32)\n",
    "            b_fc1 = self.bias_variable([self.n_neurons_layer1], name='fc1', dtype=tf.float32)\n",
    "            a_fc1 = tf.nn.sigmoid(tf.matmul(self.X, self.W_fc1) + b_fc1)\n",
    "            \n",
    "            # Fully connected layer 2\n",
    "            self.W_fc2 = self.weight_variable([self.n_neurons_layer1, self.n_neurons_layer2], name='fc2', dtype=tf.float32)\n",
    "            b_fc2 = self.bias_variable([self.n_neurons_layer2], name='fc2', dtype=tf.float32)\n",
    "            a_fc2 = tf.nn.sigmoid(tf.matmul(a_fc1, self.W_fc2) + b_fc2)\n",
    "            \n",
    "            # Output layer\n",
    "            self.W_out = self.weight_variable([self.n_neurons_layer2, self.n_categories], name='out', dtype=tf.float32)\n",
    "            b_out = self.bias_variable([self.n_categories], name='out', dtype=tf.float32)\n",
    "            self.z_out = tf.matmul(a_fc2, self.W_out) + b_out\n",
    "    \n",
    "    def create_loss(self):\n",
    "        with tf.name_scope('loss'):\n",
    "            softmax_loss = tf.reduce_mean(tf.nn.softmax_cross_entropy_with_logits_v2(labels=self.Y, logits=self.z_out))\n",
    "            \n",
    "            regularizer_loss_fc1 = tf.nn.l2_loss(self.W_fc1)\n",
    "            regularizer_loss_fc2 = tf.nn.l2_loss(self.W_fc2)\n",
    "            regularizer_loss_out = tf.nn.l2_loss(self.W_out)\n",
    "            regularizer_loss = self.lmbd*(regularizer_loss_fc1 + regularizer_loss_fc2 + regularizer_loss_out)\n",
    "            \n",
    "            self.loss = softmax_loss + regularizer_loss\n",
    "\n",
    "    def create_accuracy(self):\n",
    "        with tf.name_scope('accuracy'):\n",
    "            probabilities = tf.nn.softmax(self.z_out)\n",
    "            predictions = tf.argmax(probabilities, axis=1)\n",
    "            labels = tf.argmax(self.Y, axis=1)\n",
    "            \n",
    "            correct_predictions = tf.equal(predictions, labels)\n",
    "            correct_predictions = tf.cast(correct_predictions, tf.float32)\n",
    "            self.accuracy = tf.reduce_mean(correct_predictions)\n",
    "    \n",
    "    def create_optimiser(self):\n",
    "        with tf.name_scope('optimizer'):\n",
    "            self.optimizer = tf.train.GradientDescentOptimizer(learning_rate=self.eta).minimize(self.loss, global_step=self.global_step)\n",
    "            \n",
    "    def weight_variable(self, shape, name='', dtype=tf.float32):\n",
    "        initial = tf.truncated_normal(shape, stddev=0.1)\n",
    "        return tf.Variable(initial, name=name, dtype=dtype)\n",
    "    \n",
    "    def bias_variable(self, shape, name='', dtype=tf.float32):\n",
    "        initial = tf.constant(0.1, shape=shape)\n",
    "        return tf.Variable(initial, name=name, dtype=dtype)\n",
    "    \n",
    "    def fit(self):\n",
    "        data_indices = np.arange(self.n_inputs)\n",
    "\n",
    "        with tf.Session() as sess:\n",
    "            sess.run(tf.global_variables_initializer())\n",
    "            for i in range(self.epochs):\n",
    "                for j in range(self.iterations):\n",
    "                    chosen_datapoints = np.random.choice(data_indices, size=self.batch_size, replace=False)\n",
    "                    batch_X, batch_Y = self.X_train[chosen_datapoints], self.Y_train[chosen_datapoints]\n",
    "                    \n",
    "                    #Fucking reshape\n",
    "                    batch_Y = batch_Y.reshape(self.batch_size,n_categories)\n",
    "                    sess.run([DNN.loss, DNN.optimizer],\n",
    "                        feed_dict={DNN.X: batch_X,\n",
    "                                   DNN.Y: batch_Y})\n",
    "                    accuracy = sess.run(DNN.accuracy,\n",
    "                        feed_dict={DNN.X: batch_X,\n",
    "                                   DNN.Y: batch_Y})\n",
    "                    step = sess.run(DNN.global_step)\n",
    "            \n",
    "            self.Y_train = self.Y_train.reshape(len(self.Y_train),n_categories)\n",
    "            self.train_loss, self.train_accuracy = sess.run([DNN.loss, DNN.accuracy],\n",
    "                feed_dict={DNN.X: self.X_train,\n",
    "                           DNN.Y: self.Y_train})\n",
    "            self.Y_test = self.Y_test.reshape(len(self.Y_test),n_categories)\n",
    "            self.test_loss, self.test_accuracy = sess.run([DNN.loss, DNN.accuracy],\n",
    "                feed_dict={DNN.X: self.X_test,\n",
    "                           DNN.Y: self.Y_test})"
   ]
  },
  {
   "cell_type": "markdown",
   "metadata": {},
   "source": [
    "# $\\triangleright$ Tweaking Parameters"
   ]
  },
  {
   "cell_type": "code",
   "execution_count": 16,
   "metadata": {
    "scrolled": true
   },
   "outputs": [
    {
     "name": "stdout",
     "output_type": "stream",
     "text": [
      "WARNING:tensorflow:From /home/echatzief/anaconda3/lib/python3.6/site-packages/tensorflow/python/framework/op_def_library.py:263: colocate_with (from tensorflow.python.framework.ops) is deprecated and will be removed in a future version.\n",
      "Instructions for updating:\n",
      "Colocations handled automatically by placer.\n",
      "Learning rate =  1e-05\n",
      "Lambda =  1e-05\n",
      "Test accuracy: 1.000\n",
      "\n",
      "Learning rate =  1e-05\n",
      "Lambda =  0.0001\n",
      "Test accuracy: 1.000\n",
      "\n",
      "Learning rate =  1e-05\n",
      "Lambda =  0.001\n",
      "Test accuracy: 1.000\n",
      "\n",
      "Learning rate =  1e-05\n",
      "Lambda =  0.01\n",
      "Test accuracy: 1.000\n",
      "\n",
      "Learning rate =  1e-05\n",
      "Lambda =  0.1\n",
      "Test accuracy: 1.000\n",
      "\n",
      "Learning rate =  1e-05\n",
      "Lambda =  1.0\n",
      "Test accuracy: 1.000\n",
      "\n",
      "Learning rate =  1e-05\n",
      "Lambda =  10.0\n",
      "Test accuracy: 1.000\n",
      "\n",
      "Learning rate =  0.0001\n",
      "Lambda =  1e-05\n",
      "Test accuracy: 1.000\n",
      "\n",
      "Learning rate =  0.0001\n",
      "Lambda =  0.0001\n",
      "Test accuracy: 1.000\n",
      "\n",
      "Learning rate =  0.0001\n",
      "Lambda =  0.001\n",
      "Test accuracy: 1.000\n",
      "\n",
      "Learning rate =  0.0001\n",
      "Lambda =  0.01\n",
      "Test accuracy: 1.000\n",
      "\n",
      "Learning rate =  0.0001\n",
      "Lambda =  0.1\n",
      "Test accuracy: 1.000\n",
      "\n",
      "Learning rate =  0.0001\n",
      "Lambda =  1.0\n",
      "Test accuracy: 1.000\n",
      "\n",
      "Learning rate =  0.0001\n",
      "Lambda =  10.0\n",
      "Test accuracy: 1.000\n",
      "\n",
      "Learning rate =  0.001\n",
      "Lambda =  1e-05\n",
      "Test accuracy: 1.000\n",
      "\n",
      "Learning rate =  0.001\n",
      "Lambda =  0.0001\n",
      "Test accuracy: 1.000\n",
      "\n",
      "Learning rate =  0.001\n",
      "Lambda =  0.001\n",
      "Test accuracy: 1.000\n",
      "\n",
      "Learning rate =  0.001\n",
      "Lambda =  0.01\n",
      "Test accuracy: 1.000\n",
      "\n",
      "Learning rate =  0.001\n",
      "Lambda =  0.1\n",
      "Test accuracy: 1.000\n",
      "\n",
      "Learning rate =  0.001\n",
      "Lambda =  1.0\n",
      "Test accuracy: 1.000\n",
      "\n",
      "Learning rate =  0.001\n",
      "Lambda =  10.0\n",
      "Test accuracy: 1.000\n",
      "\n",
      "Learning rate =  0.01\n",
      "Lambda =  1e-05\n",
      "Test accuracy: 1.000\n",
      "\n",
      "Learning rate =  0.01\n",
      "Lambda =  0.0001\n",
      "Test accuracy: 1.000\n",
      "\n",
      "Learning rate =  0.01\n",
      "Lambda =  0.001\n",
      "Test accuracy: 1.000\n",
      "\n",
      "Learning rate =  0.01\n",
      "Lambda =  0.01\n",
      "Test accuracy: 1.000\n",
      "\n",
      "Learning rate =  0.01\n",
      "Lambda =  0.1\n",
      "Test accuracy: 1.000\n",
      "\n",
      "Learning rate =  0.01\n",
      "Lambda =  1.0\n",
      "Test accuracy: 1.000\n",
      "\n",
      "Learning rate =  0.01\n",
      "Lambda =  10.0\n",
      "Test accuracy: 1.000\n",
      "\n",
      "Learning rate =  0.1\n",
      "Lambda =  1e-05\n",
      "Test accuracy: 1.000\n",
      "\n",
      "Learning rate =  0.1\n",
      "Lambda =  0.0001\n",
      "Test accuracy: 1.000\n",
      "\n",
      "Learning rate =  0.1\n",
      "Lambda =  0.001\n",
      "Test accuracy: 1.000\n",
      "\n",
      "Learning rate =  0.1\n",
      "Lambda =  0.01\n",
      "Test accuracy: 1.000\n",
      "\n",
      "Learning rate =  0.1\n",
      "Lambda =  0.1\n",
      "Test accuracy: 1.000\n",
      "\n",
      "Learning rate =  0.1\n",
      "Lambda =  1.0\n",
      "Test accuracy: 1.000\n",
      "\n",
      "Learning rate =  0.1\n",
      "Lambda =  10.0\n",
      "Test accuracy: 1.000\n",
      "\n",
      "Learning rate =  1.0\n",
      "Lambda =  1e-05\n",
      "Test accuracy: 1.000\n",
      "\n",
      "Learning rate =  1.0\n",
      "Lambda =  0.0001\n",
      "Test accuracy: 1.000\n",
      "\n",
      "Learning rate =  1.0\n",
      "Lambda =  0.001\n",
      "Test accuracy: 1.000\n",
      "\n",
      "Learning rate =  1.0\n",
      "Lambda =  0.01\n",
      "Test accuracy: 1.000\n",
      "\n",
      "Learning rate =  1.0\n",
      "Lambda =  0.1\n",
      "Test accuracy: 1.000\n",
      "\n",
      "Learning rate =  1.0\n",
      "Lambda =  1.0\n",
      "Test accuracy: 1.000\n",
      "\n",
      "Learning rate =  1.0\n",
      "Lambda =  10.0\n",
      "Test accuracy: 1.000\n",
      "\n",
      "Learning rate =  10.0\n",
      "Lambda =  1e-05\n",
      "Test accuracy: 1.000\n",
      "\n",
      "Learning rate =  10.0\n",
      "Lambda =  0.0001\n",
      "Test accuracy: 1.000\n",
      "\n",
      "Learning rate =  10.0\n",
      "Lambda =  0.001\n",
      "Test accuracy: 1.000\n",
      "\n",
      "Learning rate =  10.0\n",
      "Lambda =  0.01\n",
      "Test accuracy: 1.000\n",
      "\n",
      "Learning rate =  10.0\n",
      "Lambda =  0.1\n",
      "Test accuracy: 1.000\n",
      "\n",
      "Learning rate =  10.0\n",
      "Lambda =  1.0\n",
      "Test accuracy: 1.000\n",
      "\n",
      "Learning rate =  10.0\n",
      "Lambda =  10.0\n",
      "Test accuracy: 1.000\n",
      "\n"
     ]
    }
   ],
   "source": [
    "epochs = 100\n",
    "batch_size = 100\n",
    "n_neurons_layer1 = 100\n",
    "n_neurons_layer2 = 50\n",
    "n_categories = 1\n",
    "eta_vals = np.logspace(-5, 1, 7)\n",
    "lmbd_vals = np.logspace(-5, 1, 7)\n",
    "\n",
    "DNN_tf = np.zeros((len(eta_vals), len(lmbd_vals)), dtype=object)\n",
    "        \n",
    "for i, eta in enumerate(eta_vals):\n",
    "    for j, lmbd in enumerate(lmbd_vals):\n",
    "        DNN = NeuralNetworkTensorflow(trainX, trainY, testX, testY,\n",
    "                                      n_neurons_layer1, n_neurons_layer2, n_categories,\n",
    "                                      epochs=epochs, batch_size=batch_size, eta=eta, lmbd=lmbd)\n",
    "        DNN.fit()\n",
    "        \n",
    "        DNN_tf[i][j] = DNN\n",
    "        \n",
    "        print(\"Learning rate = \", eta)\n",
    "        print(\"Lambda = \", lmbd)\n",
    "        print(\"Test accuracy: %.3f\" % DNN.test_accuracy)\n",
    "        print()"
   ]
  },
  {
   "cell_type": "markdown",
   "metadata": {},
   "source": [
    "# $\\triangleright$ Visualization"
   ]
  },
  {
   "cell_type": "code",
   "execution_count": 17,
   "metadata": {
    "scrolled": true
   },
   "outputs": [
    {
     "data": {
      "image/png": "[encoded data removed]",
      "text/plain": [
       "<Figure size 720x720 with 2 Axes>"
      ]
     },
     "metadata": {},
     "output_type": "display_data"
    },
    {
     "data": {
      "image/png": "[encoded data removed]",
      "text/plain": [
       "<Figure size 720x720 with 2 Axes>"
      ]
     },
     "metadata": {},
     "output_type": "display_data"
    }
   ],
   "source": [
    "# optional\n",
    "# visual representation of grid search\n",
    "# uses seaborn heatmap, could probably do this in matplotlib\n",
    "import seaborn as sns\n",
    "\n",
    "sns.set()\n",
    "\n",
    "train_accuracy = np.zeros((len(eta_vals), len(lmbd_vals)))\n",
    "test_accuracy = np.zeros((len(eta_vals), len(lmbd_vals)))\n",
    "\n",
    "for i in range(len(eta_vals)):\n",
    "    for j in range(len(lmbd_vals)):\n",
    "        DNN = DNN_tf[i][j]\n",
    "\n",
    "        train_accuracy[i][j] = DNN.train_accuracy\n",
    "        test_accuracy[i][j] = DNN.test_accuracy\n",
    "\n",
    "        \n",
    "fig, ax = plt.subplots(figsize = (10, 10))\n",
    "sns.heatmap(train_accuracy, annot=True, ax=ax, cmap=\"viridis\")\n",
    "ax.set_title(\"Training Accuracy\")\n",
    "ax.set_ylabel(\"$\\eta$\")\n",
    "ax.set_xlabel(\"$\\lambda$\")\n",
    "plt.show()\n",
    "\n",
    "fig, ax = plt.subplots(figsize = (10, 10))\n",
    "sns.heatmap(test_accuracy, annot=True, ax=ax, cmap=\"viridis\")\n",
    "ax.set_title(\"Test Accuracy\")\n",
    "ax.set_ylabel(\"$\\eta$\")\n",
    "ax.set_xlabel(\"$\\lambda$\")\n",
    "plt.show()"
   ]
  },
  {
   "cell_type": "markdown",
   "metadata": {},
   "source": [
    "# $\\triangleright$ Using Keras"
   ]
  },
  {
   "cell_type": "code",
   "execution_count": 18,
   "metadata": {
    "collapsed": true
   },
   "outputs": [],
   "source": [
    "from keras.models import Sequential\n",
    "from keras.layers import Dense\n",
    "from keras.regularizers import l2\n",
    "from keras.optimizers import SGD\n",
    "def create_neural_network_keras(n_neurons_layer, n_categories, eta, lmbd,trainX):\n",
    "    model = Sequential()\n",
    "    model.add(Dense(n_neurons_layer,input_dim=trainX.shape[1],activation='relu', kernel_regularizer=l2(lmbd)))\n",
    "    model.add(Dense(n_categories, activation='sigmoid'))\n",
    "    \n",
    "    sgd = SGD(lr=eta)\n",
    "    model.compile(loss='binary_crossentropy', optimizer=sgd, metrics=['accuracy'])\n",
    "    \n",
    "    return model"
   ]
  },
  {
   "cell_type": "markdown",
   "metadata": {},
   "source": [
    "# $\\triangleright$ Tweaking Parameters"
   ]
  },
  {
   "cell_type": "code",
   "execution_count": 19,
   "metadata": {
    "scrolled": true
   },
   "outputs": [
    {
     "name": "stdout",
     "output_type": "stream",
     "text": [
      "WARNING:tensorflow:From /home/echatzief/anaconda3/lib/python3.6/site-packages/tensorflow/python/ops/math_ops.py:3066: to_int32 (from tensorflow.python.ops.math_ops) is deprecated and will be removed in a future version.\n",
      "Instructions for updating:\n",
      "Use tf.cast instead.\n",
      "241/241 [==============================] - 1s 2ms/step\n",
      "Learning rate =  1e-05\n",
      "Lambda =  1e-05\n",
      "Test accuracy: 0.461\n",
      "\n",
      "241/241 [==============================] - 0s 2ms/step\n",
      "Learning rate =  1e-05\n",
      "Lambda =  0.0001\n",
      "Test accuracy: 0.498\n",
      "\n",
      "241/241 [==============================] - 1s 2ms/step\n",
      "Learning rate =  1e-05\n",
      "Lambda =  0.001\n",
      "Test accuracy: 0.535\n",
      "\n",
      "241/241 [==============================] - 1s 3ms/step\n",
      "Learning rate =  1e-05\n",
      "Lambda =  0.01\n",
      "Test accuracy: 0.502\n",
      "\n",
      "241/241 [==============================] - 1s 2ms/step\n",
      "Learning rate =  1e-05\n",
      "Lambda =  0.1\n",
      "Test accuracy: 0.394\n",
      "\n",
      "241/241 [==============================] - 1s 3ms/step\n",
      "Learning rate =  1e-05\n",
      "Lambda =  1.0\n",
      "Test accuracy: 0.436\n",
      "\n",
      "241/241 [==============================] - 1s 3ms/step\n",
      "Learning rate =  1e-05\n",
      "Lambda =  10.0\n",
      "Test accuracy: 0.461\n",
      "\n",
      "241/241 [==============================] - 1s 3ms/step\n",
      "Learning rate =  0.0001\n",
      "Lambda =  1e-05\n",
      "Test accuracy: 0.523\n",
      "\n",
      "241/241 [==============================] - 1s 3ms/step\n",
      "Learning rate =  0.0001\n",
      "Lambda =  0.0001\n",
      "Test accuracy: 0.498\n",
      "\n",
      "241/241 [==============================] - 1s 3ms/step\n",
      "Learning rate =  0.0001\n",
      "Lambda =  0.001\n",
      "Test accuracy: 0.477\n",
      "\n",
      "241/241 [==============================] - 1s 3ms/step\n",
      "Learning rate =  0.0001\n",
      "Lambda =  0.01\n",
      "Test accuracy: 0.510\n",
      "\n",
      "241/241 [==============================] - 1s 3ms/step\n",
      "Learning rate =  0.0001\n",
      "Lambda =  0.1\n",
      "Test accuracy: 0.531\n",
      "\n",
      "241/241 [==============================] - 1s 3ms/step\n",
      "Learning rate =  0.0001\n",
      "Lambda =  1.0\n",
      "Test accuracy: 0.593\n",
      "\n",
      "241/241 [==============================] - 1s 3ms/step\n",
      "Learning rate =  0.0001\n",
      "Lambda =  10.0\n",
      "Test accuracy: 0.515\n",
      "\n",
      "241/241 [==============================] - 1s 3ms/step\n",
      "Learning rate =  0.001\n",
      "Lambda =  1e-05\n",
      "Test accuracy: 0.685\n",
      "\n",
      "241/241 [==============================] - 1s 3ms/step\n",
      "Learning rate =  0.001\n",
      "Lambda =  0.0001\n",
      "Test accuracy: 0.598\n",
      "\n",
      "241/241 [==============================] - 1s 3ms/step\n",
      "Learning rate =  0.001\n",
      "Lambda =  0.001\n",
      "Test accuracy: 0.539\n",
      "\n",
      "241/241 [==============================] - 1s 3ms/step\n",
      "Learning rate =  0.001\n",
      "Lambda =  0.01\n",
      "Test accuracy: 0.788\n",
      "\n",
      "241/241 [==============================] - 1s 3ms/step\n",
      "Learning rate =  0.001\n",
      "Lambda =  0.1\n",
      "Test accuracy: 0.743\n",
      "\n",
      "241/241 [==============================] - 1s 3ms/step\n",
      "Learning rate =  0.001\n",
      "Lambda =  1.0\n",
      "Test accuracy: 0.817\n",
      "\n",
      "241/241 [==============================] - 1s 3ms/step\n",
      "Learning rate =  0.001\n",
      "Lambda =  10.0\n",
      "Test accuracy: 0.490\n",
      "\n",
      "241/241 [==============================] - 1s 3ms/step\n",
      "Learning rate =  0.01\n",
      "Lambda =  1e-05\n",
      "Test accuracy: 0.946\n",
      "\n",
      "241/241 [==============================] - 1s 3ms/step\n",
      "Learning rate =  0.01\n",
      "Lambda =  0.0001\n",
      "Test accuracy: 0.950\n",
      "\n",
      "241/241 [==============================] - 1s 3ms/step\n",
      "Learning rate =  0.01\n",
      "Lambda =  0.001\n",
      "Test accuracy: 0.934\n",
      "\n",
      "241/241 [==============================] - 1s 3ms/step\n",
      "Learning rate =  0.01\n",
      "Lambda =  0.01\n",
      "Test accuracy: 0.975\n",
      "\n",
      "241/241 [==============================] - 1s 3ms/step\n",
      "Learning rate =  0.01\n",
      "Lambda =  0.1\n",
      "Test accuracy: 0.913\n",
      "\n",
      "241/241 [==============================] - 1s 3ms/step\n",
      "Learning rate =  0.01\n",
      "Lambda =  1.0\n",
      "Test accuracy: 0.942\n",
      "\n",
      "241/241 [==============================] - 1s 4ms/step\n",
      "Learning rate =  0.01\n",
      "Lambda =  10.0\n",
      "Test accuracy: 0.490\n",
      "\n",
      "241/241 [==============================] - 1s 4ms/step\n",
      "Learning rate =  0.1\n",
      "Lambda =  1e-05\n",
      "Test accuracy: 0.979\n",
      "\n",
      "241/241 [==============================] - 1s 4ms/step\n",
      "Learning rate =  0.1\n",
      "Lambda =  0.0001\n",
      "Test accuracy: 0.979\n",
      "\n",
      "241/241 [==============================] - 1s 4ms/step\n",
      "Learning rate =  0.1\n",
      "Lambda =  0.001\n",
      "Test accuracy: 0.979\n",
      "\n",
      "241/241 [==============================] - 1s 4ms/step\n",
      "Learning rate =  0.1\n",
      "Lambda =  0.01\n",
      "Test accuracy: 0.971\n",
      "\n",
      "241/241 [==============================] - 1s 4ms/step\n",
      "Learning rate =  0.1\n",
      "Lambda =  0.1\n",
      "Test accuracy: 0.913\n",
      "\n",
      "241/241 [==============================] - 1s 4ms/step\n",
      "Learning rate =  0.1\n",
      "Lambda =  1.0\n",
      "Test accuracy: 0.490\n",
      "\n",
      "241/241 [==============================] - 1s 4ms/step\n",
      "Learning rate =  0.1\n",
      "Lambda =  10.0\n",
      "Test accuracy: 0.490\n",
      "\n",
      "241/241 [==============================] - 1s 4ms/step\n",
      "Learning rate =  1.0\n",
      "Lambda =  1e-05\n",
      "Test accuracy: 0.988\n",
      "\n",
      "241/241 [==============================] - 1s 4ms/step\n",
      "Learning rate =  1.0\n",
      "Lambda =  0.0001\n",
      "Test accuracy: 0.988\n",
      "\n",
      "241/241 [==============================] - 1s 4ms/step\n",
      "Learning rate =  1.0\n",
      "Lambda =  0.001\n",
      "Test accuracy: 0.988\n",
      "\n",
      "241/241 [==============================] - 1s 4ms/step\n",
      "Learning rate =  1.0\n",
      "Lambda =  0.01\n",
      "Test accuracy: 0.975\n",
      "\n",
      "241/241 [==============================] - 1s 4ms/step\n",
      "Learning rate =  1.0\n",
      "Lambda =  0.1\n",
      "Test accuracy: 0.490\n",
      "\n",
      "241/241 [==============================] - 1s 4ms/step\n",
      "Learning rate =  1.0\n",
      "Lambda =  1.0\n",
      "Test accuracy: 0.490\n",
      "\n",
      "241/241 [==============================] - 1s 4ms/step\n",
      "Learning rate =  1.0\n",
      "Lambda =  10.0\n",
      "Test accuracy: 0.000\n",
      "\n",
      "241/241 [==============================] - 1s 5ms/step\n",
      "Learning rate =  10.0\n",
      "Lambda =  1e-05\n",
      "Test accuracy: 0.490\n",
      "\n",
      "241/241 [==============================] - 1s 5ms/step\n",
      "Learning rate =  10.0\n",
      "Lambda =  0.0001\n",
      "Test accuracy: 0.490\n",
      "\n",
      "241/241 [==============================] - 1s 5ms/step\n",
      "Learning rate =  10.0\n",
      "Lambda =  0.001\n",
      "Test accuracy: 0.510\n",
      "\n",
      "241/241 [==============================] - 1s 5ms/step\n",
      "Learning rate =  10.0\n",
      "Lambda =  0.01\n",
      "Test accuracy: 0.490\n",
      "\n",
      "241/241 [==============================] - 1s 5ms/step\n",
      "Learning rate =  10.0\n",
      "Lambda =  0.1\n",
      "Test accuracy: 0.490\n",
      "\n",
      "241/241 [==============================] - 1s 5ms/step\n",
      "Learning rate =  10.0\n",
      "Lambda =  1.0\n",
      "Test accuracy: 0.000\n",
      "\n",
      "241/241 [==============================] - 1s 5ms/step\n",
      "Learning rate =  10.0\n",
      "Lambda =  10.0\n",
      "Test accuracy: 0.000\n",
      "\n"
     ]
    }
   ],
   "source": [
    "epochs = 100\n",
    "batch_size = 100\n",
    "n_neurons_layer = 20 \n",
    "n_categories = 1\n",
    "eta_vals = np.logspace(-5, 1, 7)\n",
    "lmbd_vals = np.logspace(-5, 1, 7)\n",
    "\n",
    "DNN_keras = np.zeros((len(eta_vals), len(lmbd_vals)), dtype=object)\n",
    "        \n",
    "for i, eta in enumerate(eta_vals):\n",
    "    for j, lmbd in enumerate(lmbd_vals):\n",
    "        DNN = create_neural_network_keras(n_neurons_layer,n_categories,eta=eta, lmbd=lmbd,trainX=trainX)\n",
    "        DNN.fit(trainX, trainY, epochs=epochs, batch_size=batch_size, verbose=0)\n",
    "        scores = DNN.evaluate(testX, testY)\n",
    "        \n",
    "        DNN_keras[i][j] = DNN\n",
    "        \n",
    "        print(\"Learning rate = \", eta)\n",
    "        print(\"Lambda = \", lmbd)\n",
    "        print(\"Test accuracy: %.3f\" % scores[1])\n",
    "        print()"
   ]
  },
  {
   "cell_type": "markdown",
   "metadata": {},
   "source": [
    "# $\\triangleright$ Visualization"
   ]
  },
  {
   "cell_type": "code",
   "execution_count": 20,
   "metadata": {},
   "outputs": [
    {
     "name": "stdout",
     "output_type": "stream",
     "text": [
      "561/561 [==============================] - 0s 210us/step\n",
      "241/241 [==============================] - 0s 203us/step\n",
      "561/561 [==============================] - 0s 191us/step\n",
      "241/241 [==============================] - 0s 200us/step\n",
      "561/561 [==============================] - 0s 186us/step\n",
      "241/241 [==============================] - 0s 202us/step\n",
      "561/561 [==============================] - 0s 184us/step\n",
      "241/241 [==============================] - 0s 192us/step\n",
      "561/561 [==============================] - 0s 195us/step\n",
      "241/241 [==============================] - 0s 179us/step\n",
      "561/561 [==============================] - 0s 200us/step\n",
      "241/241 [==============================] - 0s 178us/step\n",
      "561/561 [==============================] - 0s 209us/step\n",
      "241/241 [==============================] - 0s 189us/step\n",
      "561/561 [==============================] - 0s 204us/step\n",
      "241/241 [==============================] - 0s 202us/step\n",
      "561/561 [==============================] - 0s 204us/step\n",
      "241/241 [==============================] - 0s 199us/step\n",
      "561/561 [==============================] - 0s 204us/step\n",
      "241/241 [==============================] - 0s 192us/step\n",
      "561/561 [==============================] - 0s 212us/step\n",
      "241/241 [==============================] - 0s 190us/step\n",
      "561/561 [==============================] - 0s 208us/step\n",
      "241/241 [==============================] - 0s 195us/step\n",
      "561/561 [==============================] - 0s 193us/step\n",
      "241/241 [==============================] - 0s 188us/step\n",
      "561/561 [==============================] - 0s 202us/step\n",
      "241/241 [==============================] - 0s 186us/step\n",
      "561/561 [==============================] - 0s 203us/step\n",
      "241/241 [==============================] - 0s 216us/step\n",
      "561/561 [==============================] - 0s 196us/step\n",
      "241/241 [==============================] - 0s 177us/step\n",
      "561/561 [==============================] - 0s 197us/step\n",
      "241/241 [==============================] - 0s 196us/step\n",
      "561/561 [==============================] - 0s 201us/step\n",
      "241/241 [==============================] - 0s 187us/step\n",
      "561/561 [==============================] - 0s 201us/step\n",
      "241/241 [==============================] - 0s 190us/step\n",
      "561/561 [==============================] - 0s 183us/step\n",
      "241/241 [==============================] - 0s 192us/step\n",
      "561/561 [==============================] - 0s 192us/step\n",
      "241/241 [==============================] - 0s 186us/step\n",
      "561/561 [==============================] - 0s 197us/step\n",
      "241/241 [==============================] - 0s 200us/step\n",
      "561/561 [==============================] - 0s 236us/step\n",
      "241/241 [==============================] - 0s 203us/step\n",
      "561/561 [==============================] - 0s 183us/step\n",
      "241/241 [==============================] - 0s 188us/step\n",
      "561/561 [==============================] - 0s 184us/step\n",
      "241/241 [==============================] - 0s 179us/step\n",
      "561/561 [==============================] - 0s 198us/step\n",
      "241/241 [==============================] - 0s 178us/step\n",
      "561/561 [==============================] - 0s 180us/step\n",
      "241/241 [==============================] - 0s 180us/step\n",
      "561/561 [==============================] - 0s 179us/step\n",
      "241/241 [==============================] - 0s 181us/step\n",
      "561/561 [==============================] - 0s 175us/step\n",
      "241/241 [==============================] - 0s 184us/step\n",
      "561/561 [==============================] - 0s 180us/step\n",
      "241/241 [==============================] - 0s 183us/step\n",
      "561/561 [==============================] - 0s 173us/step\n",
      "241/241 [==============================] - 0s 177us/step\n",
      "561/561 [==============================] - 0s 178us/step\n",
      "241/241 [==============================] - 0s 179us/step\n",
      "561/561 [==============================] - 0s 179us/step\n",
      "241/241 [==============================] - 0s 179us/step\n",
      "561/561 [==============================] - 0s 172us/step\n",
      "241/241 [==============================] - 0s 173us/step\n",
      "561/561 [==============================] - 0s 170us/step\n",
      "241/241 [==============================] - 0s 180us/step\n",
      "561/561 [==============================] - 0s 179us/step\n",
      "241/241 [==============================] - 0s 181us/step\n",
      "561/561 [==============================] - 0s 174us/step\n",
      "241/241 [==============================] - 0s 174us/step\n",
      "561/561 [==============================] - 0s 173us/step\n",
      "241/241 [==============================] - 0s 175us/step\n",
      "561/561 [==============================] - 0s 170us/step\n",
      "241/241 [==============================] - 0s 180us/step\n",
      "561/561 [==============================] - 0s 177us/step\n",
      "241/241 [==============================] - 0s 181us/step\n",
      "561/561 [==============================] - 0s 173us/step\n",
      "241/241 [==============================] - 0s 181us/step\n",
      "561/561 [==============================] - 0s 175us/step\n",
      "241/241 [==============================] - 0s 182us/step\n",
      "561/561 [==============================] - 0s 176us/step\n",
      "241/241 [==============================] - 0s 185us/step\n",
      "561/561 [==============================] - 0s 173us/step\n",
      "241/241 [==============================] - 0s 192us/step\n",
      "561/561 [==============================] - 0s 196us/step\n",
      "241/241 [==============================] - 0s 187us/step\n",
      "561/561 [==============================] - 0s 181us/step\n",
      "241/241 [==============================] - 0s 204us/step\n",
      "561/561 [==============================] - 0s 190us/step\n",
      "241/241 [==============================] - 0s 185us/step\n",
      "561/561 [==============================] - 0s 199us/step\n",
      "241/241 [==============================] - 0s 236us/step\n",
      "561/561 [==============================] - 0s 208us/step\n",
      "241/241 [==============================] - 0s 219us/step\n"
     ]
    },
    {
     "data": {
      "image/png": "[encoded data removed]",
      "text/plain": [
       "<Figure size 720x720 with 2 Axes>"
      ]
     },
     "metadata": {},
     "output_type": "display_data"
    },
    {
     "data": {
      "image/png": "[encoded data removed]",
      "text/plain": [
       "<Figure size 720x720 with 2 Axes>"
      ]
     },
     "metadata": {},
     "output_type": "display_data"
    }
   ],
   "source": [
    "# optional\n",
    "# visual representation of grid search\n",
    "# uses seaborn heatmap, could probably do this in matplotlib\n",
    "import matplotlib.pyplot as plt\n",
    "import seaborn as sns\n",
    "\n",
    "sns.set()\n",
    "\n",
    "train_accuracy = np.zeros((len(eta_vals), len(lmbd_vals)))\n",
    "test_accuracy = np.zeros((len(eta_vals), len(lmbd_vals)))\n",
    "for i in range(len(eta_vals)):\n",
    "    for j in range(len(lmbd_vals)):\n",
    "        DNN = DNN_keras[i][j]\n",
    "\n",
    "        train_accuracy[i][j] = DNN.evaluate(trainX, trainY)[1]\n",
    "        test_accuracy[i][j] = DNN.evaluate(testX, testY)[1]\n",
    "\n",
    "        \n",
    "fig, ax = plt.subplots(figsize = (10, 10))\n",
    "sns.heatmap(train_accuracy, annot=True, ax=ax, cmap=\"viridis\")\n",
    "ax.set_title(\"Training Accuracy\")\n",
    "ax.set_ylabel(\"$\\eta$\")\n",
    "ax.set_xlabel(\"$\\lambda$\")\n",
    "plt.show()\n",
    "\n",
    "fig, ax = plt.subplots(figsize = (10, 10))\n",
    "sns.heatmap(test_accuracy, annot=True, ax=ax, cmap=\"viridis\")\n",
    "ax.set_title(\"Test Accuracy\")\n",
    "ax.set_ylabel(\"$\\eta$\")\n",
    "ax.set_xlabel(\"$\\lambda$\")\n",
    "plt.show()"
   ]
  },
  {
   "cell_type": "markdown",
   "metadata": {},
   "source": [
    "# Simple Convolutional Network with Keras"
   ]
  },
  {
   "cell_type": "code",
   "execution_count": 21,
   "metadata": {
    "collapsed": true
   },
   "outputs": [],
   "source": [
    "\"\"\"\n",
    "    Libraries\n",
    "\"\"\"\n",
    "import pandas as pd\n",
    "import numpy as np\n",
    "import re\n",
    "import os\n",
    "from os import listdir\n",
    "from os.path import isfile,join\n",
    "from sklearn.feature_extraction.text import TfidfVectorizer\n",
    "from sklearn.model_selection import train_test_split\n",
    "from keras.models import Sequential\n",
    "from keras.layers import Flatten,Dense,Input\n",
    "from keras.layers.convolutional import Conv1D\n",
    "from keras.layers.convolutional import MaxPooling1D\n",
    "from keras.preprocessing.sequence import pad_sequences\n",
    "from keras import optimizers"
   ]
  },
  {
   "cell_type": "markdown",
   "metadata": {},
   "source": [
    "## $\\triangleright$ Preprocessing"
   ]
  },
  {
   "cell_type": "code",
   "execution_count": 22,
   "metadata": {},
   "outputs": [
    {
     "name": "stdout",
     "output_type": "stream",
     "text": [
      "\n",
      "Head of the DataFrame: \n",
      "                                             message label\n",
      "0  subject spanish association of applied linguis...     0\n",
      "1  subject genetic classification i wish to make ...     0\n",
      "2  subject functional phonology , paul boersma ne...     0\n",
      "3  subject iscll3 the third international symposi...     0\n",
      "4  subject multilingual ocr \\( optical character ...     0\n",
      "\n",
      "\n",
      "Train X Shape:  (561, 24862)\n",
      "\n",
      "Train Y Shape:  (561,)\n"
     ]
    }
   ],
   "source": [
    "#Create the DataFrame from the files\n",
    "df = createTheDataFrame('./Emails');\n",
    "print(\"\\nHead of the DataFrame: \")\n",
    "print(str(df.head())+\"\\n\")\n",
    "\n",
    "#Vectorize the data\n",
    "vectorizer = TfidfVectorizer()\n",
    "\n",
    "#Extract features,targets\n",
    "X = np.array(vectorizer.fit_transform(df.message).toarray())\n",
    "y = np.array(df.label.astype('int'))\n",
    "\n",
    "#Train-test Spliting\n",
    "trainX,testX,trainY,testY = train_test_split(X, y, test_size=0.30, random_state=42)\n",
    "\n",
    "print(\"\\nTrain X Shape: \",trainX.shape)\n",
    "print(\"\\nTrain Y Shape: \",trainY.shape)\n",
    "\n",
    "#Reshape the data to insert it to convolutional network\n",
    "trainX = np.reshape(trainX,(trainX.shape[0],trainX.shape[1],1))\n",
    "trainY = np.reshape(trainY,(trainX.shape[0],1))\n",
    "testX = np.reshape(testX,(testX.shape[0],testX.shape[1],1))\n",
    "testY = np.reshape(testY,(testY.shape[0],1))\n"
   ]
  },
  {
   "cell_type": "markdown",
   "metadata": {},
   "source": [
    "## $\\triangleright$ The Model"
   ]
  },
  {
   "cell_type": "code",
   "execution_count": 23,
   "metadata": {
    "scrolled": true
   },
   "outputs": [
    {
     "name": "stdout",
     "output_type": "stream",
     "text": [
      "Train on 561 samples, validate on 241 samples\n",
      "Epoch 1/30\n",
      "561/561 [==============================] - 12s 21ms/step - loss: 0.5250 - acc: 0.8699 - val_loss: 0.2019 - val_acc: 0.9917\n",
      "Epoch 2/30\n",
      "561/561 [==============================] - 7s 13ms/step - loss: 0.0792 - acc: 0.9982 - val_loss: 0.0556 - val_acc: 0.9959\n",
      "Epoch 3/30\n",
      "561/561 [==============================] - 8s 13ms/step - loss: 0.0153 - acc: 1.0000 - val_loss: 0.0432 - val_acc: 0.9959\n",
      "Epoch 4/30\n",
      "561/561 [==============================] - 9s 15ms/step - loss: 0.0055 - acc: 1.0000 - val_loss: 0.0296 - val_acc: 0.9917\n",
      "Epoch 5/30\n",
      "561/561 [==============================] - 9s 16ms/step - loss: 0.0028 - acc: 1.0000 - val_loss: 0.0245 - val_acc: 0.9959\n",
      "Epoch 6/30\n",
      "561/561 [==============================] - 8s 14ms/step - loss: 0.0017 - acc: 1.0000 - val_loss: 0.0218 - val_acc: 0.9917\n",
      "Epoch 7/30\n",
      "561/561 [==============================] - 8s 14ms/step - loss: 0.0010 - acc: 1.0000 - val_loss: 0.0196 - val_acc: 0.9959\n",
      "Epoch 8/30\n",
      "561/561 [==============================] - 9s 16ms/step - loss: 6.2529e-04 - acc: 1.0000 - val_loss: 0.0199 - val_acc: 0.9959\n",
      "Epoch 9/30\n",
      "561/561 [==============================] - 8s 15ms/step - loss: 4.1928e-04 - acc: 1.0000 - val_loss: 0.0173 - val_acc: 0.9917\n",
      "Epoch 10/30\n",
      "561/561 [==============================] - 8s 14ms/step - loss: 2.8062e-04 - acc: 1.0000 - val_loss: 0.0159 - val_acc: 0.9959\n",
      "Epoch 11/30\n",
      "561/561 [==============================] - 8s 15ms/step - loss: 2.0432e-04 - acc: 1.0000 - val_loss: 0.0150 - val_acc: 0.9959\n",
      "Epoch 12/30\n",
      "561/561 [==============================] - 8s 15ms/step - loss: 1.3517e-04 - acc: 1.0000 - val_loss: 0.0145 - val_acc: 0.9959\n",
      "Epoch 13/30\n",
      "561/561 [==============================] - 8s 14ms/step - loss: 9.3606e-05 - acc: 1.0000 - val_loss: 0.0139 - val_acc: 0.9917\n",
      "Epoch 14/30\n",
      "561/561 [==============================] - 9s 16ms/step - loss: 6.7264e-05 - acc: 1.0000 - val_loss: 0.0130 - val_acc: 0.9959\n",
      "Epoch 15/30\n",
      "561/561 [==============================] - 8s 15ms/step - loss: 4.6846e-05 - acc: 1.0000 - val_loss: 0.0129 - val_acc: 0.9917\n",
      "Epoch 16/30\n",
      "561/561 [==============================] - 8s 15ms/step - loss: 3.3941e-05 - acc: 1.0000 - val_loss: 0.0122 - val_acc: 0.9959\n",
      "Epoch 17/30\n",
      "561/561 [==============================] - 9s 15ms/step - loss: 2.4128e-05 - acc: 1.0000 - val_loss: 0.0118 - val_acc: 0.9959\n",
      "Epoch 18/30\n",
      "561/561 [==============================] - 9s 16ms/step - loss: 1.7599e-05 - acc: 1.0000 - val_loss: 0.0115 - val_acc: 0.9959\n",
      "Epoch 19/30\n",
      "561/561 [==============================] - 9s 16ms/step - loss: 1.2553e-05 - acc: 1.0000 - val_loss: 0.0112 - val_acc: 0.9917\n",
      "Epoch 20/30\n",
      "561/561 [==============================] - 8s 14ms/step - loss: 9.0508e-06 - acc: 1.0000 - val_loss: 0.0110 - val_acc: 0.9959\n",
      "Epoch 21/30\n",
      "561/561 [==============================] - 9s 16ms/step - loss: 6.7345e-06 - acc: 1.0000 - val_loss: 0.0105 - val_acc: 0.9959\n",
      "Epoch 22/30\n",
      "561/561 [==============================] - 9s 15ms/step - loss: 4.7808e-06 - acc: 1.0000 - val_loss: 0.0106 - val_acc: 0.9917\n",
      "Epoch 23/30\n",
      "561/561 [==============================] - 9s 15ms/step - loss: 3.5421e-06 - acc: 1.0000 - val_loss: 0.0102 - val_acc: 0.9959\n",
      "Epoch 24/30\n",
      "561/561 [==============================] - 8s 14ms/step - loss: 2.5688e-06 - acc: 1.0000 - val_loss: 0.0099 - val_acc: 0.9959\n",
      "Epoch 25/30\n",
      "561/561 [==============================] - 9s 16ms/step - loss: 1.8580e-06 - acc: 1.0000 - val_loss: 0.0109 - val_acc: 0.9959\n",
      "Epoch 26/30\n",
      "561/561 [==============================] - 9s 16ms/step - loss: 1.4182e-06 - acc: 1.0000 - val_loss: 0.0095 - val_acc: 0.9959\n",
      "Epoch 27/30\n",
      "561/561 [==============================] - 9s 16ms/step - loss: 1.0349e-06 - acc: 1.0000 - val_loss: 0.0093 - val_acc: 0.9959\n",
      "Epoch 28/30\n",
      "561/561 [==============================] - 9s 16ms/step - loss: 7.6560e-07 - acc: 1.0000 - val_loss: 0.0091 - val_acc: 0.9959\n",
      "Epoch 29/30\n",
      "561/561 [==============================] - 8s 14ms/step - loss: 5.7385e-07 - acc: 1.0000 - val_loss: 0.0090 - val_acc: 0.9959\n",
      "Epoch 30/30\n",
      "561/561 [==============================] - 9s 16ms/step - loss: 4.4403e-07 - acc: 1.0000 - val_loss: 0.0089 - val_acc: 0.9959\n"
     ]
    },
    {
     "data": {
      "text/plain": [
       "<keras.callbacks.History at 0x7f5bed946d30>"
      ]
     },
     "execution_count": 23,
     "metadata": {},
     "output_type": "execute_result"
    }
   ],
   "source": [
    "\"\"\"\n",
    "    Create the model\n",
    "\"\"\"\n",
    "model = Sequential()\n",
    "\n",
    "model.add(Conv1D(5,1,input_shape=(trainX.shape[1],trainX.shape[2]),activation='relu',padding='same'))\n",
    "model.add(Flatten())\n",
    "model.add(Dense(5,activation='relu'))\n",
    "model.add(Dense(1,activation='sigmoid'))\n",
    "\n",
    "#sgd = optimizers.SGD(lr=0.0001)\n",
    "model.compile(loss='binary_crossentropy',optimizer='adam',metrics=['acc'])\n",
    "\n",
    "model.fit(trainX,trainY,validation_data=(testX,testY),epochs=30,batch_size=1)"
   ]
  },
  {
   "cell_type": "markdown",
   "metadata": {},
   "source": [
    "# Convolutional Network with Embedding Layer"
   ]
  },
  {
   "cell_type": "markdown",
   "metadata": {},
   "source": [
    "## $\\triangleright$ Different preprocessing"
   ]
  },
  {
   "cell_type": "code",
   "execution_count": 24,
   "metadata": {},
   "outputs": [
    {
     "data": {
      "text/html": [
       "<div>\n",
       "<style scoped>\n",
       "    .dataframe tbody tr th:only-of-type {\n",
       "        vertical-align: middle;\n",
       "    }\n",
       "\n",
       "    .dataframe tbody tr th {\n",
       "        vertical-align: top;\n",
       "    }\n",
       "\n",
       "    .dataframe thead th {\n",
       "        text-align: right;\n",
       "    }\n",
       "</style>\n",
       "<table border=\"1\" class=\"dataframe\">\n",
       "  <thead>\n",
       "    <tr style=\"text-align: right;\">\n",
       "      <th></th>\n",
       "      <th>message</th>\n",
       "      <th>label</th>\n",
       "    </tr>\n",
       "  </thead>\n",
       "  <tbody>\n",
       "    <tr>\n",
       "      <th>0</th>\n",
       "      <td>subject spanish association of applied linguis...</td>\n",
       "      <td>0</td>\n",
       "    </tr>\n",
       "    <tr>\n",
       "      <th>1</th>\n",
       "      <td>subject genetic classification i wish to make ...</td>\n",
       "      <td>0</td>\n",
       "    </tr>\n",
       "    <tr>\n",
       "      <th>2</th>\n",
       "      <td>subject functional phonology , paul boersma ne...</td>\n",
       "      <td>0</td>\n",
       "    </tr>\n",
       "    <tr>\n",
       "      <th>3</th>\n",
       "      <td>subject iscll3 the third international symposi...</td>\n",
       "      <td>0</td>\n",
       "    </tr>\n",
       "    <tr>\n",
       "      <th>4</th>\n",
       "      <td>subject multilingual ocr \\( optical character ...</td>\n",
       "      <td>0</td>\n",
       "    </tr>\n",
       "  </tbody>\n",
       "</table>\n",
       "</div>"
      ],
      "text/plain": [
       "                                             message label\n",
       "0  subject spanish association of applied linguis...     0\n",
       "1  subject genetic classification i wish to make ...     0\n",
       "2  subject functional phonology , paul boersma ne...     0\n",
       "3  subject iscll3 the third international symposi...     0\n",
       "4  subject multilingual ocr \\( optical character ...     0"
      ]
     },
     "execution_count": 24,
     "metadata": {},
     "output_type": "execute_result"
    }
   ],
   "source": [
    "#Create a dataframe with the samples for train,test\n",
    "df=createTheDataFrame('./Emails')\n",
    "df.head()"
   ]
  },
  {
   "cell_type": "markdown",
   "metadata": {},
   "source": [
    "## $\\triangleright$ Tokenize each email and turn into sequence"
   ]
  },
  {
   "cell_type": "code",
   "execution_count": 25,
   "metadata": {},
   "outputs": [
    {
     "name": "stdout",
     "output_type": "stream",
     "text": [
      "Found 24906 unique tokens.\n"
     ]
    }
   ],
   "source": [
    "#https://richliao.github.io/supervised/classification/2016/11/26/textclassifier-convolutional/\n",
    "#https://blog.keras.io/using-pre-trained-word-embeddings-in-a-keras-model.html\n",
    "from keras.preprocessing.text import Tokenizer\n",
    "\n",
    "MAX_NUM_WORDS = 20000\n",
    "MAX_SEQUENCE_LENGTH = 1000\n",
    "VALIDATION_SPLIT = 0.2\n",
    "EMBEDDING_DIM =100 \n",
    "\n",
    "#Get the labels and texts\n",
    "labels = np.array(df['label'])\n",
    "texts = np.array(df['message'])\n",
    "\n",
    "tokenizer = Tokenizer(num_words=MAX_NUM_WORDS)\n",
    "tokenizer.fit_on_texts(texts)\n",
    "sequences = tokenizer.texts_to_sequences(texts)\n",
    "\n",
    "word_index = tokenizer.word_index\n",
    "print('Found %s unique tokens.' % len(word_index))\n",
    "#print(sequences)"
   ]
  },
  {
   "cell_type": "markdown",
   "metadata": {},
   "source": [
    "## $\\triangleright$ Sequence pading and spliting"
   ]
  },
  {
   "cell_type": "code",
   "execution_count": 26,
   "metadata": {},
   "outputs": [
    {
     "name": "stdout",
     "output_type": "stream",
     "text": [
      "Shape of data tensor: (802, 1000)\n",
      "Shape of label tensor: (802, 2)\n"
     ]
    }
   ],
   "source": [
    "from keras.preprocessing.sequence import pad_sequences\n",
    "from keras.utils import to_categorical\n",
    "\n",
    "data = pad_sequences(sequences, maxlen=MAX_SEQUENCE_LENGTH)\n",
    "\n",
    "labels = to_categorical(np.asarray(labels))\n",
    "print('Shape of data tensor:', data.shape)\n",
    "print('Shape of label tensor:', labels.shape)\n",
    "\n",
    "# split the data into a training set and a validation set\n",
    "indices = np.arange(data.shape[0])\n",
    "np.random.shuffle(indices)\n",
    "data = data[indices]\n",
    "labels = labels[indices]\n",
    "nb_validation_samples = int(VALIDATION_SPLIT * data.shape[0])\n",
    "\n",
    "x_train = data[:-nb_validation_samples]\n",
    "y_train = labels[:-nb_validation_samples]\n",
    "x_val = data[-nb_validation_samples:]\n",
    "y_val = labels[-nb_validation_samples:]"
   ]
  },
  {
   "cell_type": "markdown",
   "metadata": {},
   "source": [
    "## $\\triangleright$ Create embedding matrix for the embedding layer with the words i have"
   ]
  },
  {
   "cell_type": "code",
   "execution_count": 27,
   "metadata": {
    "collapsed": true
   },
   "outputs": [],
   "source": [
    "GLOVE_DIR = \"./glove/\"\n",
    "embeddings_index = {}\n",
    "f = open(os.path.join(GLOVE_DIR, 'glove.6B.100d.txt'))\n",
    "for line in f:\n",
    "    values = line.split()\n",
    "    word = values[0]\n",
    "    coefs = np.asarray(values[1:], dtype='float32')\n",
    "    embeddings_index[word] = coefs\n",
    "f.close()\n",
    "\n",
    "embedding_matrix = np.random.random((len(word_index) + 1, EMBEDDING_DIM))\n",
    "for word, i in word_index.items():\n",
    "    embedding_vector = embeddings_index.get(word)\n",
    "    if embedding_vector is not None:\n",
    "        # words not found in embedding index will be all-zeros.\n",
    "        embedding_matrix[i] = embedding_vector"
   ]
  },
  {
   "cell_type": "markdown",
   "metadata": {},
   "source": [
    "## $\\triangleright$ Create the embedding layer"
   ]
  },
  {
   "cell_type": "code",
   "execution_count": 28,
   "metadata": {
    "collapsed": true
   },
   "outputs": [],
   "source": [
    "from keras.layers import Embedding\n",
    "\n",
    "embedding_layer = Embedding(len(word_index) + 1,\n",
    "                            EMBEDDING_DIM,\n",
    "                            weights=[embedding_matrix],\n",
    "                            input_length=MAX_SEQUENCE_LENGTH,\n",
    "                            trainable=False)"
   ]
  },
  {
   "cell_type": "markdown",
   "metadata": {},
   "source": [
    "## $\\triangleright$ Create the model"
   ]
  },
  {
   "cell_type": "code",
   "execution_count": 29,
   "metadata": {},
   "outputs": [
    {
     "name": "stdout",
     "output_type": "stream",
     "text": [
      "Train on 642 samples, validate on 160 samples\n",
      "Epoch 1/8\n",
      "642/642 [==============================] - 12s 18ms/step - loss: 0.2945 - acc: 0.8949 - val_loss: 0.0223 - val_acc: 1.0000\n",
      "Epoch 2/8\n",
      "642/642 [==============================] - 7s 11ms/step - loss: 0.1390 - acc: 0.9798 - val_loss: 0.3260 - val_acc: 0.9500\n",
      "Epoch 3/8\n",
      "642/642 [==============================] - 7s 11ms/step - loss: 0.0854 - acc: 0.9875 - val_loss: 0.0334 - val_acc: 0.9938\n",
      "Epoch 4/8\n",
      "642/642 [==============================] - 7s 11ms/step - loss: 0.0536 - acc: 0.9953 - val_loss: 2.9817e-04 - val_acc: 1.0000\n",
      "Epoch 5/8\n",
      "642/642 [==============================] - 7s 11ms/step - loss: 0.1081 - acc: 0.9922 - val_loss: 0.0189 - val_acc: 0.9938\n",
      "Epoch 6/8\n",
      "642/642 [==============================] - 7s 11ms/step - loss: 0.0967 - acc: 0.9914 - val_loss: 5.3877e-05 - val_acc: 1.0000\n",
      "Epoch 7/8\n",
      "642/642 [==============================] - 7s 11ms/step - loss: 0.0263 - acc: 0.9977 - val_loss: 0.0014 - val_acc: 1.0000\n",
      "Epoch 8/8\n",
      "642/642 [==============================] - 7s 11ms/step - loss: 0.0250 - acc: 0.9984 - val_loss: 0.0014 - val_acc: 1.0000\n"
     ]
    },
    {
     "data": {
      "text/plain": [
       "<keras.callbacks.History at 0x7f5be5a377b8>"
      ]
     },
     "execution_count": 29,
     "metadata": {},
     "output_type": "execute_result"
    }
   ],
   "source": [
    "from keras.layers import Dense, Input, GlobalMaxPooling1D,Flatten\n",
    "from keras.layers import Conv1D, MaxPooling1D, Embedding\n",
    "from keras.models import Model\n",
    "from keras.initializers import Constant\n",
    "\n",
    "sequence_input = Input(shape=(MAX_SEQUENCE_LENGTH,), dtype='int32')\n",
    "embedded_sequences = embedding_layer(sequence_input)\n",
    "x = Conv1D(128, 5, activation='relu')(embedded_sequences)\n",
    "x = MaxPooling1D(5)(x)\n",
    "x = Conv1D(128, 5, activation='relu')(x)\n",
    "x = MaxPooling1D(5)(x)\n",
    "x = Conv1D(128, 5, activation='relu')(x)\n",
    "x = MaxPooling1D(35)(x)  # global max pooling\n",
    "x = Flatten()(x)\n",
    "x = Dense(128, activation='relu')(x)\n",
    "preds = Dense(2, activation='sigmoid')(x)\n",
    "\n",
    "model = Model(sequence_input, preds)\n",
    "model.compile(loss='binary_crossentropy',\n",
    "              optimizer='rmsprop',\n",
    "              metrics=['acc'])\n",
    "model.fit(x_train, y_train, validation_data=(x_val, y_val),epochs=8, batch_size=1)"
   ]
  },
  {
   "cell_type": "code",
   "execution_count": null,
   "metadata": {
    "collapsed": true
   },
   "outputs": [],
   "source": []
  }
 ],
 "metadata": {
  "kernelspec": {
   "display_name": "Python 3",
   "language": "python",
   "name": "python3"
  },
  "language_info": {
   "codemirror_mode": {
    "name": "ipython",
    "version": 3
   },
   "file_extension": ".py",
   "mimetype": "text/x-python",
   "name": "python",
   "nbconvert_exporter": "python",
   "pygments_lexer": "ipython3",
   "version": "3.6.3"
  }
 },
 "nbformat": 4,
 "nbformat_minor": 2
}
